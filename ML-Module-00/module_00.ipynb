{
 "cells": [
  {
   "cell_type": "code",
   "execution_count": null,
   "id": "09a15c8f-6b8a-492b-aefa-9dae625a59f8",
   "metadata": {},
   "outputs": [],
   "source": [
    "from math import sqrt\n",
    "from sklearn.metrics import *"
   ]
  },
  {
   "cell_type": "markdown",
   "id": "9c666a73-57c9-41c5-a8e7-58ea2df8471b",
   "metadata": {},
   "source": [
    "# Matrix"
   ]
  },
  {
   "cell_type": "code",
   "execution_count": null,
   "id": "ed6d82cb-f10f-4ccf-bfd6-42a6248574e4",
   "metadata": {},
   "outputs": [],
   "source": [
    "class Matrix:\n",
    "    def __init__(self, data):\n",
    "        if isinstance(data, tuple):\n",
    "            self.data = [[0.0 for _ in range(data[1])] for _ in range(data[0])]\n",
    "            self.shape = data\n",
    "        elif isinstance(data, list):\n",
    "            self.data = data\n",
    "            self.shape = (len(data), len(data[0]))\n",
    "        else:\n",
    "            raise TypeError(\"Data should be a list of lists or a tuple\")\n",
    "\n",
    "    def __repr__(self):\n",
    "        return f\"Matrix({self.data})\"\n",
    "\n",
    "    def T(self):\n",
    "        transposed_data = list(map(list, zip(*self.data)))\n",
    "        return Matrix(transposed_data)\n",
    "        \n",
    "    def __add__(self, other):\n",
    "        if isinstance(other, Matrix) and self.shape == other.shape:\n",
    "            added_data = [[self.data[i][j] + other.data[i][j] for j in range(self.shape[1])] for i in range(self.shape[0])]\n",
    "            return Matrix(added_data)\n",
    "        else:\n",
    "            raise ValueError(\"Can only add matrices of the same dimensions\")\n",
    "\n",
    "    def __sub__(self, other):\n",
    "        if isinstance(other, Matrix) and self.shape == other.shape:\n",
    "            subtracted_data = [[self.data[i][j] - other.data[i][j] for j in range(self.shape[1])] for i in range(self.shape[0])]\n",
    "            return Matrix(subtracted_data)\n",
    "        else:\n",
    "            raise ValueError(\"Can only subtract matrices of the same dimensions\")\n",
    "\n",
    "    def __truediv__(self, scalar):\n",
    "        if isinstance(scalar, (int, float)):\n",
    "            divided_data = [[self.data[i][j] / scalar for j in range(self.shape[1])] for i in range(self.shape[0])]\n",
    "            return Matrix(divided_data)\n",
    "        else:\n",
    "            raise ValueError(\"Can only divide by a scalar\")\n",
    "\n",
    "    def __mul__(self, other) -> Matrix:\n",
    "        m, n, p = self.shape[0], self.shape[1], other.shape[1]\n",
    "    \n",
    "        if self.shape[1] != other.shape[0]: \n",
    "            raise ValueError(\"Number of columns of first matrix must match number of rows in second matrix for multiplication.\")\n",
    "    \n",
    "        def dot(l1, l2) -> float:\n",
    "            return sum(l1[i] * l2[i] for i in range(len(l1)))\n",
    "    \n",
    "        res = []\n",
    "        for i in range(m):\n",
    "            arr = []\n",
    "            for j in range(p):\n",
    "                arr.append(dot(self.data[i], [other.data[k][j] for k in range(n)]))\n",
    "            res.append(arr)\n",
    "        return Matrix(res)\n",
    "\n",
    "    def __rmul__(self, other) -> 'Matrix':\n",
    "        if isinstance(other, (int, float)):  # scalar multiplication\n",
    "            return self.__mul__(other)\n",
    "        else:\n",
    "            raise TypeError(\"Unsupported operand type for multiplication\")\n",
    "\n",
    "\n",
    "    def __radd__(self, other):\n",
    "        return self.__add__(other)\n",
    "    \n",
    "    def __rsub__(self, other):\n",
    "        return self.__sub__(other).__mul__(-1)\n",
    "\n",
    "    def __rtruediv__(self, scalar):\n",
    "        if isinstance(scalar, (int, float)):\n",
    "            divided_data = [[scalar / self.data[i][j] for j in range(self.shape[1])] for i in range(self.shape[0])]\n",
    "            return Matrix(divided_data)\n",
    "        else:\n",
    "            raise ValueError(\"Can only divide by a scalar\")"
   ]
  },
  {
   "cell_type": "markdown",
   "id": "359d86fa-f251-4278-85e8-c3b5c98ef8ab",
   "metadata": {},
   "source": [
    "### Test 1"
   ]
  },
  {
   "cell_type": "code",
   "execution_count": null,
   "id": "f6f7aed5-f5f9-4cfb-92d6-adf6fbac6e67",
   "metadata": {},
   "outputs": [
    {
     "name": "stdout",
     "output_type": "stream",
     "text": [
      "(3, 2)\n"
     ]
    }
   ],
   "source": [
    "m1 = Matrix([[0.0, 1.0], [2.0, 3.0], [4.0, 5.0]])\n",
    "print(m1.shape) # Output: (3, 2)"
   ]
  },
  {
   "cell_type": "code",
   "execution_count": null,
   "id": "7fae3966-1bb7-4b9c-9e82-ba573a3419d6",
   "metadata": {},
   "outputs": [
    {
     "data": {
      "text/plain": [
       "Matrix([[0.0, 2.0, 4.0], [1.0, 3.0, 5.0]])"
      ]
     },
     "execution_count": null,
     "metadata": {},
     "output_type": "execute_result"
    }
   ],
   "source": [
    "m1.T() # Output: Matrix([[0., 2., 4.], [1., 3., 5.]])"
   ]
  },
  {
   "cell_type": "code",
   "execution_count": null,
   "id": "bee5319b-4c56-49d1-8b76-ffe70c9576b7",
   "metadata": {},
   "outputs": [
    {
     "data": {
      "text/plain": [
       "(2, 3)"
      ]
     },
     "execution_count": null,
     "metadata": {},
     "output_type": "execute_result"
    }
   ],
   "source": [
    "m1.T().shape # Output: (2, 3)"
   ]
  },
  {
   "cell_type": "code",
   "execution_count": null,
   "id": "06c88a8c-1133-4718-863f-eb49cacfb689",
   "metadata": {},
   "outputs": [
    {
     "data": {
      "text/plain": [
       "[[0.0, 1.0], [2.0, 3.0], [4.0, 5.0]]"
      ]
     },
     "execution_count": null,
     "metadata": {},
     "output_type": "execute_result"
    }
   ],
   "source": [
    "m1.data"
   ]
  },
  {
   "cell_type": "markdown",
   "id": "0c46afda-f9b6-4d78-9c56-dd62e840b9ce",
   "metadata": {},
   "source": [
    "### Test 2"
   ]
  },
  {
   "cell_type": "code",
   "execution_count": null,
   "id": "9a25170d-8a4a-4539-b465-2e08e41e663b",
   "metadata": {},
   "outputs": [
    {
     "data": {
      "text/plain": [
       "(2, 3)"
      ]
     },
     "execution_count": null,
     "metadata": {},
     "output_type": "execute_result"
    }
   ],
   "source": [
    "m1 = Matrix([[0., 2., 4.], [1., 3., 5.]])\n",
    "m1.shape # Output: (2, 3)"
   ]
  },
  {
   "cell_type": "code",
   "execution_count": null,
   "id": "4e958d0c-198a-4ef8-ad80-d9c27dfefd87",
   "metadata": {},
   "outputs": [
    {
     "data": {
      "text/plain": [
       "Matrix([[0.0, 1.0], [2.0, 3.0], [4.0, 5.0]])"
      ]
     },
     "execution_count": null,
     "metadata": {},
     "output_type": "execute_result"
    }
   ],
   "source": [
    "m1.T() # Output: Matrix([[0.0, 1.0], [2.0, 3.0], [4.0, 5.0]])"
   ]
  },
  {
   "cell_type": "code",
   "execution_count": null,
   "id": "0105a81f-377e-4649-a789-8c73a76e3c88",
   "metadata": {},
   "outputs": [
    {
     "data": {
      "text/plain": [
       "(3, 2)"
      ]
     },
     "execution_count": null,
     "metadata": {},
     "output_type": "execute_result"
    }
   ],
   "source": [
    "m1.T().shape # Output: (3, 2)"
   ]
  },
  {
   "cell_type": "markdown",
   "id": "e78a1748-ee92-41c5-8699-3ead4a791dfc",
   "metadata": {},
   "source": [
    "# Vector"
   ]
  },
  {
   "cell_type": "code",
   "execution_count": null,
   "id": "468aebdb-beea-4a04-ae78-dd771ef5f230",
   "metadata": {},
   "outputs": [],
   "source": [
    "class Vector(Matrix):\n",
    "    def __init__(self, data):\n",
    "        super().__init__(data)\n",
    "        if self.shape[0] > 1 and self.shape[1] > 1:\n",
    "            raise ValueError(\"Vector can only be initialized with a row or a column\")\n",
    "\n",
    "    def _perform_operation_and_return_vector(self, operation, *args):\n",
    "        result_matrix = operation(*args)\n",
    "        return Vector(result_matrix.data)\n",
    "\n",
    "    def __add__(self, other):\n",
    "        return self._perform_operation_and_return_vector(super().__add__, other)\n",
    "\n",
    "    def __sub__(self, other):\n",
    "        return self._perform_operation_and_return_vector(super().__sub__, other)\n",
    "    \n",
    "    def __truediv__(self, scalar):\n",
    "        return self._perform_operation_and_return_vector(super().__truediv__, scalar)\n",
    "    \n",
    "    def __radd__(self, other):\n",
    "        return self.__add__(other)\n",
    "    \n",
    "    def __rsub__(self, other):\n",
    "        return self.__sub__(other).__mul__(-1)\n",
    "\n",
    "    def __rtruediv__(self, scalar):\n",
    "        return self._perform_operation_and_return_vector(super().__rtruediv__, scalar)\n",
    "\n",
    "    def dot(self, v: Vector) -> float:\n",
    "        if self.shape != v.shape: raise ValueError('shapes does not match!')\n",
    "\n",
    "        if self.shape[0] == 1:  # row vector\n",
    "            return sum(self.data[0][i] * v.data[0][i] for i in range(self.shape[1]))\n",
    "        else:  # column vector\n",
    "            return sum(self.data[i][0] * v.data[i][0] for i in range(self.shape[0]))\n"
   ]
  },
  {
   "cell_type": "markdown",
   "id": "751eca9b-2653-4176-906d-c1363ae3c69b",
   "metadata": {},
   "source": [
    "## Testing"
   ]
  },
  {
   "cell_type": "code",
   "execution_count": null,
   "id": "eaedf4ab-8b60-4ed8-8144-6e12de6ae689",
   "metadata": {},
   "outputs": [
    {
     "name": "stdout",
     "output_type": "stream",
     "text": [
      "(1, 3)\n"
     ]
    }
   ],
   "source": [
    "v1 = Vector([[1, 2, 3]])  # creates a row vector\n",
    "print(v1.shape)  # Output: (1, 3)"
   ]
  },
  {
   "cell_type": "code",
   "execution_count": null,
   "id": "e072214c-3f92-4f2f-9e9e-b543c8dc834c",
   "metadata": {},
   "outputs": [
    {
     "name": "stdout",
     "output_type": "stream",
     "text": [
      "(3, 1)\n"
     ]
    }
   ],
   "source": [
    "v2 = Vector([[1], [2], [3]])  # creates a column vector\n",
    "print(v2.shape)  # Output: (3, 1)"
   ]
  },
  {
   "cell_type": "code",
   "execution_count": null,
   "id": "ddb426e1-e67f-40b9-8958-dce96abda0d8",
   "metadata": {},
   "outputs": [
    {
     "name": "stdout",
     "output_type": "stream",
     "text": [
      "Vector can only be initialized with a row or a column\n"
     ]
    }
   ],
   "source": [
    "try:\n",
    "    v3 = Vector([[1, 2], [3, 4]])  # should raise ValueError\n",
    "except ValueError as e:\n",
    "    print(e)  # Output: Vector can only be initialized with a row or a column"
   ]
  },
  {
   "cell_type": "code",
   "execution_count": null,
   "id": "6eaacec1-3070-4710-bbbe-8f8b90a1f2ef",
   "metadata": {},
   "outputs": [
    {
     "data": {
      "text/plain": [
       "Matrix([[3], [6], [11]])"
      ]
     },
     "execution_count": null,
     "metadata": {},
     "output_type": "execute_result"
    }
   ],
   "source": [
    "v1 = Vector([[1], [2], [3]])\n",
    "v2 = Vector([[2], [4], [8]])\n",
    "res = v1 + v2 # Output: Vector([[3],[6],[11]])\n",
    "res"
   ]
  },
  {
   "cell_type": "code",
   "execution_count": null,
   "id": "c00c1895-d2d0-4778-bbb4-edbd8013e618",
   "metadata": {},
   "outputs": [
    {
     "data": {
      "text/plain": [
       "__main__.Vector"
      ]
     },
     "execution_count": null,
     "metadata": {},
     "output_type": "execute_result"
    }
   ],
   "source": [
    "type(res)"
   ]
  },
  {
   "cell_type": "code",
   "execution_count": null,
   "id": "fef6ce89-ef1c-495a-8e10-f47584e9ed7f",
   "metadata": {},
   "outputs": [
    {
     "data": {
      "text/plain": [
       "(3, 1)"
      ]
     },
     "execution_count": null,
     "metadata": {},
     "output_type": "execute_result"
    }
   ],
   "source": [
    "v1.shape"
   ]
  },
  {
   "cell_type": "code",
   "execution_count": null,
   "id": "f31d31f8-eb3b-4194-9403-09c63c8fd370",
   "metadata": {},
   "outputs": [
    {
     "data": {
      "text/plain": [
       "(3, 1)"
      ]
     },
     "execution_count": null,
     "metadata": {},
     "output_type": "execute_result"
    }
   ],
   "source": [
    "v2.shape"
   ]
  },
  {
   "cell_type": "code",
   "execution_count": null,
   "id": "548887a1-9331-4be9-a1e2-7ac3beaeb72c",
   "metadata": {},
   "outputs": [],
   "source": [
    "res = 0.0\n",
    "for i in range(v1.shape[0]): res += v1.data[i][0] * v2.data[i][0]"
   ]
  },
  {
   "cell_type": "code",
   "execution_count": null,
   "id": "5ffe3dfb-b73d-4a99-a50e-ef68062a0757",
   "metadata": {},
   "outputs": [
    {
     "data": {
      "text/plain": [
       "34.0"
      ]
     },
     "execution_count": null,
     "metadata": {},
     "output_type": "execute_result"
    }
   ],
   "source": [
    "res"
   ]
  },
  {
   "cell_type": "code",
   "execution_count": null,
   "id": "977d5380-9932-4f4d-9d6d-47cf911b5e55",
   "metadata": {},
   "outputs": [
    {
     "data": {
      "text/plain": [
       "34"
      ]
     },
     "execution_count": null,
     "metadata": {},
     "output_type": "execute_result"
    }
   ],
   "source": [
    "v1.dot(v2)"
   ]
  },
  {
   "cell_type": "code",
   "execution_count": null,
   "id": "57060ebf-d42e-4570-b385-7e4ebde71850",
   "metadata": {},
   "outputs": [
    {
     "data": {
      "text/plain": [
       "(Matrix([[3, 6, 11]]), (1, 3))"
      ]
     },
     "execution_count": null,
     "metadata": {},
     "output_type": "execute_result"
    }
   ],
   "source": [
    "v1 = Vector([[1, 2, 3]])\n",
    "v2 = Vector([[2, 4, 8]])\n",
    "res = v1 + v2 # Output: Vector([[3],[6],[11]])\n",
    "res, res.shape"
   ]
  },
  {
   "cell_type": "code",
   "execution_count": null,
   "id": "e14f884c-c287-4678-a57e-7c8f43b37034",
   "metadata": {},
   "outputs": [],
   "source": [
    "res = 0.0\n",
    "for i in range(v1.shape[1]): res += v1.data[0][i] * v2.data[0][i]"
   ]
  },
  {
   "cell_type": "code",
   "execution_count": null,
   "id": "f4fdb0f6-f81b-44f7-b46c-12909e3a4f17",
   "metadata": {},
   "outputs": [
    {
     "data": {
      "text/plain": [
       "34.0"
      ]
     },
     "execution_count": null,
     "metadata": {},
     "output_type": "execute_result"
    }
   ],
   "source": [
    "res"
   ]
  },
  {
   "cell_type": "code",
   "execution_count": null,
   "id": "7c588be4-b382-4076-b8ff-5d879fc2a639",
   "metadata": {},
   "outputs": [
    {
     "data": {
      "text/plain": [
       "34"
      ]
     },
     "execution_count": null,
     "metadata": {},
     "output_type": "execute_result"
    }
   ],
   "source": [
    "v1.dot(v2)"
   ]
  },
  {
   "cell_type": "code",
   "execution_count": null,
   "id": "cc555111-fdfd-4ff1-8f1b-2f961895d0d6",
   "metadata": {},
   "outputs": [],
   "source": []
  },
  {
   "cell_type": "code",
   "execution_count": null,
   "id": "9897ee7f-65ff-4362-867b-716d9b2fed7b",
   "metadata": {},
   "outputs": [
    {
     "data": {
      "text/plain": [
       "Matrix([[28.0, 34.0], [56.0, 68.0]])"
      ]
     },
     "execution_count": null,
     "metadata": {},
     "output_type": "execute_result"
    }
   ],
   "source": [
    "m1 = Matrix([[0.0, 1.0, 2.0, 3.0],\n",
    "             [0.0, 2.0, 4.0, 6.0]])\n",
    "\n",
    "m2 = Matrix([[0.0, 1.0],\n",
    "             [2.0, 3.0],\n",
    "             [4.0, 5.0],\n",
    "             [6.0, 7.0]])\n",
    "\n",
    "m1 * m2 # Output: Matrix([[28., 34.], [56., 68.]])"
   ]
  },
  {
   "cell_type": "code",
   "execution_count": null,
   "id": "cbd376b9-38ab-4887-82ab-7ec5aa6a669d",
   "metadata": {},
   "outputs": [
    {
     "ename": "TypeError",
     "evalue": "unsupported operand type(s) for *: 'Vector' and 'Matrix'",
     "output_type": "error",
     "traceback": [
      "\u001b[0;31m---------------------------------------------------------------------------\u001b[0m",
      "\u001b[0;31mTypeError\u001b[0m                                 Traceback (most recent call last)",
      "Cell \u001b[0;32mIn[95], line 5\u001b[0m\n\u001b[1;32m      1\u001b[0m m1 \u001b[38;5;241m=\u001b[39m Matrix([[\u001b[38;5;241m0.0\u001b[39m, \u001b[38;5;241m1.0\u001b[39m, \u001b[38;5;241m2.0\u001b[39m],\n\u001b[1;32m      2\u001b[0m              [\u001b[38;5;241m0.0\u001b[39m, \u001b[38;5;241m2.0\u001b[39m, \u001b[38;5;241m4.0\u001b[39m]])\n\u001b[1;32m      4\u001b[0m v1 \u001b[38;5;241m=\u001b[39m Vector([[\u001b[38;5;241m1\u001b[39m], [\u001b[38;5;241m2\u001b[39m], [\u001b[38;5;241m3\u001b[39m]])\n\u001b[0;32m----> 5\u001b[0m \u001b[43mv1\u001b[49m\u001b[43m \u001b[49m\u001b[38;5;241;43m*\u001b[39;49m\u001b[43m \u001b[49m\u001b[43mm1\u001b[49m \n\u001b[1;32m      6\u001b[0m \u001b[38;5;66;03m# Output: Matrix([[8], [16]])\u001b[39;00m\n\u001b[1;32m      7\u001b[0m \u001b[38;5;66;03m# Or: Vector([[8], [16]\u001b[39;00m\n",
      "\u001b[0;31mTypeError\u001b[0m: unsupported operand type(s) for *: 'Vector' and 'Matrix'"
     ]
    }
   ],
   "source": [
    "m1 = Matrix([[0.0, 1.0, 2.0],\n",
    "             [0.0, 2.0, 4.0]])\n",
    "\n",
    "v1 = Vector([[1], [2], [3]])\n",
    "v1 * m1 \n",
    "# Output: Matrix([[8], [16]])\n",
    "# Or: Vector([[8], [16]"
   ]
  },
  {
   "cell_type": "code",
   "execution_count": null,
   "id": "15fdb96c-eee1-4cfb-9499-64cd6896c926",
   "metadata": {},
   "outputs": [
    {
     "data": {
      "text/plain": [
       "(3, 1)"
      ]
     },
     "execution_count": null,
     "metadata": {},
     "output_type": "execute_result"
    }
   ],
   "source": [
    "v1.shape"
   ]
  },
  {
   "cell_type": "code",
   "execution_count": null,
   "id": "26c3133c-ac60-4daa-9ff2-26905ed3d427",
   "metadata": {},
   "outputs": [
    {
     "data": {
      "text/plain": [
       "(2, 3)"
      ]
     },
     "execution_count": null,
     "metadata": {},
     "output_type": "execute_result"
    }
   ],
   "source": [
    "m1.shape"
   ]
  },
  {
   "cell_type": "code",
   "execution_count": null,
   "id": "e685f5b7-1952-47af-95ea-de4c82d24320",
   "metadata": {},
   "outputs": [],
   "source": [
    "import numpy as np\n"
   ]
  },
  {
   "cell_type": "markdown",
   "id": "2ac9fe0a-f561-41e7-bc19-d8872896c630",
   "metadata": {},
   "source": [
    "# ex02"
   ]
  },
  {
   "cell_type": "code",
   "execution_count": null,
   "id": "55bb8c30-39a4-4f73-bcc6-a50cce7e0960",
   "metadata": {},
   "outputs": [],
   "source": [
    "def simple_predict(x, theta):\n",
    "    \"\"\"\n",
    "    Computes the vector of prediction y_hat from two non-empty numpy.ndarray.\n",
    "    \n",
    "    Args:\n",
    "    x: has to be an numpy.ndarray, a vector of dimension m * 1.\n",
    "    theta: has to be an numpy.ndarray, a vector of dimension 2 * 1.\n",
    "    \n",
    "    Returns:\n",
    "    y_hat as a numpy.ndarray, a vector of dimension m * 1.\n",
    "    None if x or theta are empty numpy.ndarray.\n",
    "    None if x or theta dimensions are not appropriate.\n",
    "    \n",
    "    Raises:\n",
    "    This function should not raise any Exception.\n",
    "    \"\"\"\n",
    "    \n",
    "    if not (isinstance(x, np.ndarray) and isinstance(theta, np.ndarray)):\n",
    "        return None\n",
    "\n",
    "    if x.size == 0 or theta.size == 0:\n",
    "        return None\n",
    "\n",
    "    if theta.shape != (2,):\n",
    "         return None\n",
    "\n",
    "    y_hat = theta[0] + theta[1] * x\n",
    "    return y_hat"
   ]
  },
  {
   "cell_type": "markdown",
   "id": "5de26d2e-9ab7-45fc-aa7e-1917ccf50c30",
   "metadata": {},
   "source": [
    "## Example 1:"
   ]
  },
  {
   "cell_type": "code",
   "execution_count": null,
   "id": "e464de13-cff7-4dbb-891c-b6f2697ff897",
   "metadata": {},
   "outputs": [
    {
     "data": {
      "text/plain": [
       "array([5, 5, 5, 5, 5])"
      ]
     },
     "execution_count": null,
     "metadata": {},
     "output_type": "execute_result"
    }
   ],
   "source": [
    "x = np.arange(1,6)\n",
    "theta1 = np.array([5, 0])\n",
    "simple_predict(x, theta1)\n",
    "# Ouput: array([5., 5., 5., 5., 5.])\n",
    "# Do you understand why y_hat contains only 5’s here?"
   ]
  },
  {
   "cell_type": "code",
   "execution_count": null,
   "id": "51dfb3fb-b964-43bd-95d2-863376cacb73",
   "metadata": {},
   "outputs": [
    {
     "data": {
      "text/plain": [
       "(array([1, 2, 3, 4, 5]), array([5, 0]))"
      ]
     },
     "execution_count": null,
     "metadata": {},
     "output_type": "execute_result"
    }
   ],
   "source": [
    "x, theta1"
   ]
  },
  {
   "cell_type": "code",
   "execution_count": null,
   "id": "47866af9-a42f-41f8-94ac-ffabd84a161b",
   "metadata": {},
   "outputs": [
    {
     "data": {
      "text/plain": [
       "array([0, 0, 0, 0, 0])"
      ]
     },
     "execution_count": null,
     "metadata": {},
     "output_type": "execute_result"
    }
   ],
   "source": [
    "theta1[1] * x"
   ]
  },
  {
   "cell_type": "code",
   "execution_count": null,
   "id": "c0da4a8a-72c3-4aaa-817e-aca523706f27",
   "metadata": {},
   "outputs": [
    {
     "data": {
      "text/plain": [
       "array([5, 5, 5, 5, 5])"
      ]
     },
     "execution_count": null,
     "metadata": {},
     "output_type": "execute_result"
    }
   ],
   "source": [
    "theta1[0] + theta1[1] * x"
   ]
  },
  {
   "cell_type": "markdown",
   "id": "25dde1b8-bbb7-46b2-9d8e-2e9142445e85",
   "metadata": {},
   "source": [
    "## Example 2:"
   ]
  },
  {
   "cell_type": "code",
   "execution_count": null,
   "id": "7d69dae8-65cd-4a37-9a8a-dd1c69bf99cd",
   "metadata": {},
   "outputs": [
    {
     "data": {
      "text/plain": [
       "array([1, 2, 3, 4, 5])"
      ]
     },
     "execution_count": null,
     "metadata": {},
     "output_type": "execute_result"
    }
   ],
   "source": [
    "theta2 = np.array([0, 1])\n",
    "simple_predict(x, theta2) # Output: array([1., 2., 3., 4., 5.])\n",
    "# Do you understand why y_hat == x here?"
   ]
  },
  {
   "cell_type": "markdown",
   "id": "2661e51b-237a-4620-842f-8fd6034720ba",
   "metadata": {},
   "source": [
    "## Example 3:"
   ]
  },
  {
   "cell_type": "code",
   "execution_count": null,
   "id": "19d8863d-242a-45c6-ab61-8b22d9ba3d9a",
   "metadata": {},
   "outputs": [
    {
     "data": {
      "text/plain": [
       "array([ 8, 11, 14, 17, 20])"
      ]
     },
     "execution_count": null,
     "metadata": {},
     "output_type": "execute_result"
    }
   ],
   "source": [
    "theta3 = np.array([5, 3])\n",
    "simple_predict(x, theta3)\n",
    "# Output: array([ 8., 11., 14., 17., 20.])"
   ]
  },
  {
   "cell_type": "markdown",
   "id": "47c5e6d8-4e0b-45eb-a74c-52f54e5f41fe",
   "metadata": {},
   "source": [
    "## Example 4:"
   ]
  },
  {
   "cell_type": "code",
   "execution_count": null,
   "id": "b8962933-818f-47ba-b8b9-06bd9b868008",
   "metadata": {},
   "outputs": [
    {
     "data": {
      "text/plain": [
       "array([-2, -1,  0,  1,  2])"
      ]
     },
     "execution_count": null,
     "metadata": {},
     "output_type": "execute_result"
    }
   ],
   "source": [
    "theta4 = np.array([-3, 1])\n",
    "simple_predict(x, theta4)\n",
    "# Output: array([-2., -1., 0., 1., 2.])"
   ]
  },
  {
   "cell_type": "markdown",
   "id": "7e018fb4-6cfc-45c4-83a0-7ffd1281d067",
   "metadata": {},
   "source": [
    "# ex03"
   ]
  },
  {
   "cell_type": "code",
   "execution_count": null,
   "id": "094c13fc-6587-4175-8c88-0778980f162c",
   "metadata": {},
   "outputs": [],
   "source": [
    "def add_intercept(x):\n",
    "    \"\"\"\n",
    "    Adds a column of 1’s to the non-empty numpy.array x.\n",
    "    \n",
    "    Args:\n",
    "    x: has to be a numpy.array of dimension m * n.\n",
    "    \n",
    "    Returns:\n",
    "    X, a numpy.array of dimension m * (n + 1).\n",
    "    None if x is not a numpy.array.\n",
    "    None if x is an empty numpy.array.\n",
    "    \n",
    "    Raises:\n",
    "    This function should not raise any Exception.\n",
    "    \"\"\"\n",
    "\n",
    "    if not isinstance(x, np.ndarray) or x.size == 0:\n",
    "        return None\n",
    "\n",
    "    if len(x.shape) == 1: x = x.reshape(x.shape[0], 1)\n",
    "    \n",
    "    ones = np.ones((x.shape[0], 1))\n",
    "    X = np.hstack((ones, x))\n",
    "    return X"
   ]
  },
  {
   "cell_type": "code",
   "execution_count": null,
   "id": "4cbf9198-a0b1-4100-99f5-31471bc07ae5",
   "metadata": {},
   "outputs": [
    {
     "data": {
      "text/plain": [
       "(array([1, 2, 3, 4, 5]), (5,))"
      ]
     },
     "execution_count": null,
     "metadata": {},
     "output_type": "execute_result"
    }
   ],
   "source": [
    "x = np.arange(1,6)\n",
    "x, x.shape"
   ]
  },
  {
   "cell_type": "code",
   "execution_count": null,
   "id": "3e7fc8ea-839d-48e9-895b-42f0f85c23ec",
   "metadata": {},
   "outputs": [
    {
     "data": {
      "text/plain": [
       "array([[1.],\n",
       "       [1.],\n",
       "       [1.],\n",
       "       [1.],\n",
       "       [1.]])"
      ]
     },
     "execution_count": null,
     "metadata": {},
     "output_type": "execute_result"
    }
   ],
   "source": [
    "ones = np.ones((x.shape[0], 1))\n",
    "ones"
   ]
  },
  {
   "cell_type": "code",
   "execution_count": null,
   "id": "2af09074-fdeb-4ddc-83c8-db11d2c67ea4",
   "metadata": {},
   "outputs": [
    {
     "data": {
      "text/plain": [
       "array([[1., 1.],\n",
       "       [1., 2.],\n",
       "       [1., 3.],\n",
       "       [1., 4.],\n",
       "       [1., 5.]])"
      ]
     },
     "execution_count": null,
     "metadata": {},
     "output_type": "execute_result"
    }
   ],
   "source": [
    "np.hstack((ones, x.reshape(x.shape[0], 1)))"
   ]
  },
  {
   "cell_type": "code",
   "execution_count": null,
   "id": "6fb9960f-8e82-4c82-858a-a28d03e0f55f",
   "metadata": {},
   "outputs": [
    {
     "data": {
      "text/plain": [
       "(array([[1., 1.],\n",
       "        [1., 2.],\n",
       "        [1., 3.],\n",
       "        [1., 4.],\n",
       "        [1., 5.]]),\n",
       " (5, 2))"
      ]
     },
     "execution_count": null,
     "metadata": {},
     "output_type": "execute_result"
    }
   ],
   "source": [
    "res = add_intercept(x)\n",
    "res, res.shape"
   ]
  },
  {
   "cell_type": "code",
   "execution_count": null,
   "id": "59aabbea-dce7-475a-8f32-d8bf10b5cf49",
   "metadata": {},
   "outputs": [
    {
     "data": {
      "text/plain": [
       "(array([[1, 2, 3],\n",
       "        [4, 5, 6],\n",
       "        [7, 8, 9]]),\n",
       " (3, 3))"
      ]
     },
     "execution_count": null,
     "metadata": {},
     "output_type": "execute_result"
    }
   ],
   "source": [
    "y = np.arange(1,10).reshape((3,3))\n",
    "y, y.shape"
   ]
  },
  {
   "cell_type": "code",
   "execution_count": null,
   "id": "41e56ab9-68bc-45f5-98ee-a50e53440607",
   "metadata": {},
   "outputs": [
    {
     "data": {
      "text/plain": [
       "(array([[1., 1., 2., 3.],\n",
       "        [1., 4., 5., 6.],\n",
       "        [1., 7., 8., 9.]]),\n",
       " (3, 4))"
      ]
     },
     "execution_count": null,
     "metadata": {},
     "output_type": "execute_result"
    }
   ],
   "source": [
    "res = add_intercept(y)\n",
    "res, res.shape"
   ]
  },
  {
   "cell_type": "markdown",
   "id": "e5975c2d-dd00-4304-8f04-070656435a6f",
   "metadata": {},
   "source": [
    "# ex04"
   ]
  },
  {
   "cell_type": "code",
   "execution_count": null,
   "id": "c0942ba5-5b37-4612-a15d-b63488b641c2",
   "metadata": {},
   "outputs": [],
   "source": [
    "def predict_(x, theta):\n",
    "    \"\"\"\n",
    "    Computes the vector of prediction y_hat from two non-empty numpy.array.\n",
    "    \n",
    "    Args:\n",
    "    x: has to be an numpy.array, a vector of dimension m * 1.\n",
    "    theta: has to be an numpy.array, a vector of dimension 2 * 1.\n",
    "    \n",
    "    Returns:\n",
    "    y_hat as a numpy.array, a vector of dimension m * 1.\n",
    "    None if x and/or theta are not numpy.array.\n",
    "    None if x or theta are empty numpy.array.\n",
    "    None if x or theta dimensions are not appropriate.\n",
    "    \n",
    "    Raises:\n",
    "    This function should not raise any Exceptions.\n",
    "    \"\"\"\n",
    "\n",
    "    if not (isinstance(x, np.ndarray) and isinstance(theta, np.ndarray)):\n",
    "        return None\n",
    "\n",
    "    if x.size == 0 or theta.size == 0:\n",
    "        return None\n",
    "\n",
    "    if theta.shape != (2,1):\n",
    "         return None\n",
    "\n",
    "    \n",
    "    \n",
    "    return add_intercept(x) @ theta"
   ]
  },
  {
   "cell_type": "code",
   "execution_count": null,
   "id": "98ef878f-d1e4-4119-968e-d0475ffd6c1d",
   "metadata": {},
   "outputs": [],
   "source": [
    "x = np.arange(1,6)"
   ]
  },
  {
   "cell_type": "markdown",
   "id": "f529f040-0a54-4107-881a-638aa21da391",
   "metadata": {},
   "source": [
    "## Example 1:"
   ]
  },
  {
   "cell_type": "code",
   "execution_count": null,
   "id": "ae5be764-5cc3-4b27-adde-693830e5062d",
   "metadata": {},
   "outputs": [
    {
     "data": {
      "text/plain": [
       "array([[5.],\n",
       "       [5.],\n",
       "       [5.],\n",
       "       [5.],\n",
       "       [5.]])"
      ]
     },
     "execution_count": null,
     "metadata": {},
     "output_type": "execute_result"
    }
   ],
   "source": [
    "theta1 = np.array([[5], [0]])\n",
    "predict_(x, theta1)"
   ]
  },
  {
   "cell_type": "code",
   "execution_count": null,
   "id": "35abc90a-ca91-48a4-870a-ddd997b67e2b",
   "metadata": {},
   "outputs": [
    {
     "data": {
      "text/plain": [
       "((5, 2), (2, 1))"
      ]
     },
     "execution_count": null,
     "metadata": {},
     "output_type": "execute_result"
    }
   ],
   "source": [
    "add_intercept(x).shape, theta1.shape"
   ]
  },
  {
   "cell_type": "markdown",
   "id": "090403f0-c13d-40dc-b166-f8f0f850496f",
   "metadata": {},
   "source": [
    "# ex05"
   ]
  },
  {
   "cell_type": "code",
   "execution_count": null,
   "id": "402fda73-d4dd-4809-b9c7-8701a8908ed0",
   "metadata": {},
   "outputs": [],
   "source": [
    "import matplotlib.pyplot as plt"
   ]
  },
  {
   "cell_type": "code",
   "execution_count": null,
   "id": "d6bfee36-8154-4ba6-a94d-45b304bc9091",
   "metadata": {},
   "outputs": [],
   "source": [
    "def plot(x, y, theta):\n",
    "    \"\"\"\n",
    "    Plot the data and prediction line from three non-empty numpy.array.\n",
    "    \n",
    "    Args:\n",
    "    x: has to be an numpy.array, a vector of dimension m * 1.\n",
    "    y: has to be an numpy.array, a vector of dimension m * 1.\n",
    "    theta: has to be an numpy.array, a vector of dimension 2 * 1.\n",
    "    \n",
    "    Returns:\n",
    "    Nothing.\n",
    "    \n",
    "    Raises:\n",
    "    This function should not raise any Exceptions.\n",
    "    \"\"\"\n",
    "    y_pred = predict_(x, theta)\n",
    "    plt.scatter(x, y, s=25, label='Data points')\n",
    "    plt.plot(x, y_pred, '--', label='Linear regression', c='r')\n",
    "    _ = plt.legend(loc='best')"
   ]
  },
  {
   "cell_type": "code",
   "execution_count": null,
   "id": "7204a04c-0dfb-4a28-bb44-3dcb56c58917",
   "metadata": {},
   "outputs": [],
   "source": [
    "x = np.arange(1,6)\n",
    "y = np.array([3.74013816, 3.61473236, 4.57655287, 4.66793434, 5.95585554])"
   ]
  },
  {
   "cell_type": "markdown",
   "id": "1eaf3428-9ef3-4ab6-ba3e-62f0cfde3ad9",
   "metadata": {},
   "source": [
    "## Example 1:"
   ]
  },
  {
   "cell_type": "code",
   "execution_count": null,
   "id": "a811d1e0-e05c-45e8-941a-263af3296808",
   "metadata": {},
   "outputs": [
    {
     "data": {
      "image/png": "[encoded data removed]",
      "text/plain": [
       "<Figure size 640x480 with 1 Axes>"
      ]
     },
     "metadata": {},
     "output_type": "display_data"
    }
   ],
   "source": [
    "theta1 = np.array([[4.5],[-0.2]])\n",
    "plot(x, y, theta1)"
   ]
  },
  {
   "cell_type": "markdown",
   "id": "5bc5bdf4-92eb-4fd8-a90b-d20f5cf95956",
   "metadata": {},
   "source": [
    "## Example 2:"
   ]
  },
  {
   "cell_type": "code",
   "execution_count": null,
   "id": "ef9c4d33-c6a0-4299-a639-d8ec7a88d1eb",
   "metadata": {},
   "outputs": [
    {
     "data": {
      "image/png": "[encoded data removed]",
      "text/plain": [
       "<Figure size 640x480 with 1 Axes>"
      ]
     },
     "metadata": {},
     "output_type": "display_data"
    }
   ],
   "source": [
    "theta2 = np.array([[-1.5],[2]])\n",
    "plot(x, y, theta2)"
   ]
  },
  {
   "cell_type": "markdown",
   "id": "227515e6-3b16-4d9e-b7ef-a85dfdc99537",
   "metadata": {},
   "source": [
    "## Example 3:"
   ]
  },
  {
   "cell_type": "code",
   "execution_count": null,
   "id": "d598f91e-e99d-4a1f-9259-3f4eddfc776f",
   "metadata": {},
   "outputs": [
    {
     "data": {
      "image/png": "[encoded data removed]",
      "text/plain": [
       "<Figure size 640x480 with 1 Axes>"
      ]
     },
     "metadata": {},
     "output_type": "display_data"
    }
   ],
   "source": [
    "theta3 = np.array([[3],[0.3]])\n",
    "plot(x, y, theta3)"
   ]
  },
  {
   "cell_type": "markdown",
   "id": "acd4c756-dd47-4aa6-bbdf-6313fe0992f8",
   "metadata": {},
   "source": [
    "# ex06"
   ]
  },
  {
   "cell_type": "code",
   "execution_count": null,
   "id": "79613968-9bb4-48fa-9682-349ad60fd723",
   "metadata": {},
   "outputs": [],
   "source": [
    "def loss_elem_(y, y_hat):\n",
    "    \"\"\"\n",
    "    Description:\n",
    "    Calculates all the elements (y_pred - y)^2 of the loss function.\n",
    "    \n",
    "    Args:\n",
    "    y: has to be an numpy.array, a vector.\n",
    "    y_hat: has to be an numpy.array, a vector.\n",
    "    \n",
    "    Returns:\n",
    "    J_elem: numpy.array, a vector of dimension (number of the training examples,1).\n",
    "    None if there is a dimension matching problem between X, Y or theta.\n",
    "    None if any argument is not of the expected type.\n",
    "    \n",
    "    Raises:\n",
    "    This function should not raise any Exception.\n",
    "    \"\"\"\n",
    "\n",
    "    \n",
    "    if not (isinstance(y, np.ndarray) and isinstance(y_hat, np.ndarray)):\n",
    "        return None\n",
    "    if y.shape != y_hat.shape:\n",
    "        return None\n",
    "\n",
    "    J_elem = np.zeros(y.shape)\n",
    "    for i in range(len(y)):\n",
    "        J_elem[i] = (y[i] - y_hat[i]) ** 2\n",
    "\n",
    "    return J_elem\n",
    "\n",
    "\n",
    "def loss_(y, y_hat):\n",
    "    \"\"\"\n",
    "    Description:\n",
    "    Calculates the value of loss function.\n",
    "    \n",
    "    Args:\n",
    "    y: has to be an numpy.array, a vector.\n",
    "    y_hat: has to be an numpy.array, a vector.\n",
    "    \n",
    "    Returns:\n",
    "    J_value : has to be a float.\n",
    "    None if there is a dimension matching problem between X, Y or theta.\n",
    "    None if any argument is not of the expected type.\n",
    "    \n",
    "    Raises:\n",
    "    This function should not raise any Exception.\n",
    "    \"\"\"\n",
    "\n",
    "    J_elem = loss_elem_(y, y_hat)\n",
    "    if J_elem is None:\n",
    "        return None\n",
    "\n",
    "    J_value = 0.0\n",
    "    for elem in J_elem:\n",
    "        J_value += elem\n",
    "    J_value /= (2 * len(J_elem))\n",
    "\n",
    "    return float(J_value)"
   ]
  },
  {
   "cell_type": "code",
   "execution_count": null,
   "id": "c15c73c6-af7b-4e0d-a54b-846d32cf59bc",
   "metadata": {},
   "outputs": [],
   "source": [
    "x1 = np.array([[0.], [1.], [2.], [3.], [4.]])\n",
    "theta1 = np.array([[2.], [4.]])\n",
    "y_hat1 = predict_(x1, theta1)\n",
    "y1 = np.array([[2.], [7.], [12.], [17.], [22.]])"
   ]
  },
  {
   "cell_type": "markdown",
   "id": "ce705899-cfe9-483f-8d87-5971cfae489f",
   "metadata": {},
   "source": [
    "## Example 1:"
   ]
  },
  {
   "cell_type": "code",
   "execution_count": null,
   "id": "94f5c23b-822d-4290-9046-9f1ee7810cc0",
   "metadata": {},
   "outputs": [
    {
     "data": {
      "text/plain": [
       "array([[ 0.],\n",
       "       [ 1.],\n",
       "       [ 4.],\n",
       "       [ 9.],\n",
       "       [16.]])"
      ]
     },
     "execution_count": null,
     "metadata": {},
     "output_type": "execute_result"
    }
   ],
   "source": [
    "loss_elem_(y1, y_hat1)\n",
    "# Output: array([[0.], [1], [4], [9], [16]])"
   ]
  },
  {
   "cell_type": "markdown",
   "id": "bfb57789-f910-4b8c-aebb-27b5304187fc",
   "metadata": {},
   "source": [
    "## Example 2:"
   ]
  },
  {
   "cell_type": "code",
   "execution_count": null,
   "id": "f9b3e61c-6bee-4721-8638-fa0c725dce52",
   "metadata": {},
   "outputs": [
    {
     "data": {
      "text/plain": [
       "3.0"
      ]
     },
     "execution_count": null,
     "metadata": {},
     "output_type": "execute_result"
    }
   ],
   "source": [
    "loss_(y1, y_hat1)\n",
    "# Output: 3.0"
   ]
  },
  {
   "cell_type": "code",
   "execution_count": null,
   "id": "a5203299-bb1e-4924-a48d-84189dc19d6c",
   "metadata": {},
   "outputs": [],
   "source": [
    "x2 = np.array([0, 15, -9, 7, 12, 3, -21]).reshape(-1, 1)\n",
    "theta2 = np.array([[0.], [1.]]).reshape(-1, 1)\n",
    "y_hat2 = predict_(x2, theta3)\n",
    "y2 = np.array([2, 14, -13, 5, 12, 4, -19]).reshape(-1, 1)"
   ]
  },
  {
   "cell_type": "markdown",
   "id": "63d618c0-6ccc-4462-a864-a39a4232f64a",
   "metadata": {},
   "source": [
    "## Example 3:"
   ]
  },
  {
   "cell_type": "code",
   "execution_count": null,
   "id": "043268d3-bdb4-4551-86fc-1648f4c85db0",
   "metadata": {},
   "outputs": [
    {
     "data": {
      "text/plain": [
       "35.415"
      ]
     },
     "execution_count": null,
     "metadata": {},
     "output_type": "execute_result"
    }
   ],
   "source": [
    "loss_(y2, y_hat2)\n",
    "# Output: 2.142857142857143"
   ]
  },
  {
   "cell_type": "markdown",
   "id": "0ffc36e8-5377-4f2d-988d-f57c5339dee7",
   "metadata": {},
   "source": [
    "## Example 4:"
   ]
  },
  {
   "cell_type": "code",
   "execution_count": null,
   "id": "8dd34efa-de72-4baa-a78b-1c339bf895ed",
   "metadata": {},
   "outputs": [
    {
     "data": {
      "text/plain": [
       "0.0"
      ]
     },
     "execution_count": null,
     "metadata": {},
     "output_type": "execute_result"
    }
   ],
   "source": [
    "loss_(y2, y2)\n",
    "# Output"
   ]
  },
  {
   "cell_type": "markdown",
   "id": "47fa67d0-7ef5-4301-bb60-8dafaf34df10",
   "metadata": {},
   "source": [
    "# ex07"
   ]
  },
  {
   "cell_type": "code",
   "execution_count": null,
   "id": "0eb86f96-c5b5-4019-8961-182a4e602d34",
   "metadata": {},
   "outputs": [],
   "source": [
    "def loss_(y, y_hat):\n",
    "    \"\"\"\n",
    "    Computes the half mean squared error of two non-empty numpy.array, without any for loop.\n",
    "    The two arrays must have the same dimensions.\n",
    "    Args:\n",
    "    y: has to be an numpy.array, a vector.\n",
    "    y_hat: has to be an numpy.array, a vector.\n",
    "    Returns:\n",
    "    The half mean squared error of the two vectors as a float.\n",
    "    None if y or y_hat are empty numpy.array.\n",
    "    None if y and y_hat does not share the same dimensions.\n",
    "    Raises:\n",
    "    This function should not raise any Exceptions.\n",
    "    \"\"\"\n",
    "    return ((y - y_hat) ** 2).mean() * 0.5"
   ]
  },
  {
   "cell_type": "code",
   "execution_count": null,
   "id": "a59f73d8-2886-4754-a48f-8df6101ba8db",
   "metadata": {},
   "outputs": [],
   "source": [
    "X = np.array([[0], [15], [-9], [7], [12], [3], [-21]])\n",
    "Y = np.array([[2], [14], [-13], [5], [12], [4], [-19]])"
   ]
  },
  {
   "cell_type": "markdown",
   "id": "13628e79-579f-457f-8d39-8bebfcd461c0",
   "metadata": {},
   "source": [
    "## Example 1:\n"
   ]
  },
  {
   "cell_type": "code",
   "execution_count": null,
   "id": "686b99c1-176a-46e6-bd86-8391207c8aa9",
   "metadata": {},
   "outputs": [
    {
     "data": {
      "text/plain": [
       "2.142857142857143"
      ]
     },
     "execution_count": null,
     "metadata": {},
     "output_type": "execute_result"
    }
   ],
   "source": [
    "loss_(X, Y)\n",
    "# Output: 2.142857142857143"
   ]
  },
  {
   "cell_type": "markdown",
   "id": "b614ad42-9cfd-4d88-ad42-19e4453a1ecf",
   "metadata": {},
   "source": [
    "## Example 2:"
   ]
  },
  {
   "cell_type": "code",
   "execution_count": null,
   "id": "469cb15a-b0b4-4723-b018-62745be8d2f6",
   "metadata": {},
   "outputs": [
    {
     "data": {
      "text/plain": [
       "0.0"
      ]
     },
     "execution_count": null,
     "metadata": {},
     "output_type": "execute_result"
    }
   ],
   "source": [
    "loss_(X, X) # Output: 0.0"
   ]
  },
  {
   "cell_type": "code",
   "execution_count": null,
   "id": "8edffbaa-4c95-4a59-98e6-c931c3fb846e",
   "metadata": {},
   "outputs": [],
   "source": [
    "def plot_with_loss(x, y, theta):\n",
    "    \"\"\"\n",
    "    Plot the data and prediction line from three non-empty numpy.ndarray.\n",
    "    \n",
    "    Args:\n",
    "    x: has to be an numpy.ndarray, a vector of dimension m * 1.\n",
    "    y: has to be an numpy.ndarray, a vector of dimension m * 1.\n",
    "    theta: has to be an numpy.ndarray, a vector of dimension 2 * 1.\n",
    "    \n",
    "    Returns:\n",
    "    Nothing.\n",
    "    \n",
    "    Raises:\n",
    "    This function should not raise any Exception.\n",
    "    \"\"\"\n",
    "\n",
    "    y_pred = predict_(x, theta)\n",
    "    error = y - y_pred[:, 0]\n",
    "    mse_loss = loss_(y_pred, y).round(2)\n",
    "    plt.bar(x, error, width=0.03, bottom=y_pred[:, 0], color='salmon', alpha=0.7)  # a softer shade of red\n",
    "    plt.fill_between(x, y, y_pred.flatten(), color='skyblue', alpha=0.4, label=f'Error (MSE = {mse_loss})')  # softer shade of blue\n",
    "    plt.scatter(x, y, s=25, label='Data points')  # dark blue for data points\n",
    "    plt.plot(x, y_pred, '--', color='darkred', label='Linear regression')  # dark red for the regression line\n",
    "    plt.legend(loc='best')\n",
    "    plt.grid(True, which='both', linestyle='--', linewidth=0.5)  # Adding grid for better readability\n",
    "    plt.show()"
   ]
  },
  {
   "cell_type": "code",
   "execution_count": null,
   "id": "8123784c-e73d-4691-a344-6fad681ab7e4",
   "metadata": {},
   "outputs": [],
   "source": [
    "x = np.arange(1,6)\n",
    "y = np.array([11.52434424, 10.62589482, 13.14755699, 18.60682298, 14.14329568])"
   ]
  },
  {
   "cell_type": "markdown",
   "id": "2cc8f07c-25a7-4bae-9e55-56d9271cf8d9",
   "metadata": {},
   "source": [
    "## Example 1:"
   ]
  },
  {
   "cell_type": "code",
   "execution_count": null,
   "id": "5f3308f4-6913-4cc9-9ac5-59053993b063",
   "metadata": {},
   "outputs": [
    {
     "data": {
      "image/png": "[encoded data removed]",
      "text/plain": [
       "<Figure size 640x480 with 1 Axes>"
      ]
     },
     "metadata": {},
     "output_type": "display_data"
    }
   ],
   "source": [
    "theta1= np.array([[18],[-1]])\n",
    "plot_with_loss(x,y, theta1)"
   ]
  },
  {
   "cell_type": "markdown",
   "id": "999d683b-b80b-4c54-8b00-528d87ccf44c",
   "metadata": {},
   "source": [
    "## Example 2:"
   ]
  },
  {
   "cell_type": "code",
   "execution_count": null,
   "id": "12d55a1c-eb0b-4f58-b6f8-244534806769",
   "metadata": {},
   "outputs": [
    {
     "data": {
      "image/png": "[encoded data removed]",
      "text/plain": [
       "<Figure size 640x480 with 1 Axes>"
      ]
     },
     "metadata": {},
     "output_type": "display_data"
    }
   ],
   "source": [
    "theta2 = np.array([[14], [0]])\n",
    "plot_with_loss(x, y, theta2)\n",
    "# Output:"
   ]
  },
  {
   "cell_type": "markdown",
   "id": "f2a0f29d-ad72-4796-84f5-79cf2fd7e0c1",
   "metadata": {},
   "source": [
    "## Example 3:"
   ]
  },
  {
   "cell_type": "code",
   "execution_count": null,
   "id": "b35b7c8d-0a74-49bd-bf34-257561a69fb1",
   "metadata": {},
   "outputs": [
    {
     "data": {
      "image/png": "[encoded data removed]",
      "text/plain": [
       "<Figure size 640x480 with 1 Axes>"
      ]
     },
     "metadata": {},
     "output_type": "display_data"
    }
   ],
   "source": [
    "theta3 = np.array([[12], [0.8]])\n",
    "plot_with_loss(x, y, theta3)\n",
    "# Output:"
   ]
  },
  {
   "cell_type": "code",
   "execution_count": null,
   "id": "3252da9f-acc1-43d2-9682-b14aabc2bbd1",
   "metadata": {},
   "outputs": [],
   "source": []
  },
  {
   "cell_type": "code",
   "execution_count": null,
   "id": "ad5e2392-dd42-4ecd-a673-7dac4373b9cc",
   "metadata": {},
   "outputs": [],
   "source": []
  },
  {
   "cell_type": "code",
   "execution_count": null,
   "id": "8a5f8b4b-c563-4e48-adf9-262d67e18aa3",
   "metadata": {},
   "outputs": [],
   "source": [
    "def mse_(y, y_hat):\n",
    "    \"\"\"\n",
    "    Description:\n",
    "    Calculate the MSE between the predicted output and the real output.\n",
    "    \n",
    "    Args:\n",
    "    y: has to be a numpy.array, a vector of dimension m * 1.\n",
    "    y_hat: has to be a numpy.array, a vector of dimension m * 1.\n",
    "    \n",
    "    Returns:\n",
    "    mse: has to be a float.\n",
    "    None if there is a matching dimension problem.\n",
    "    \n",
    "    Raises:\n",
    "    This function should not raise any Exceptions.\n",
    "    \"\"\"\n",
    "\n",
    "    return ((y - y_hat) ** 2).mean()\n",
    "\n",
    "def rmse_(y, y_hat):\n",
    "    \"\"\"\n",
    "    Description:\n",
    "    Calculate the RMSE between the predicted output and the real output.\n",
    "    Args:\n",
    "    y: has to be a numpy.array, a vector of dimension m * 1.\n",
    "    y_hat: has to be a numpy.array, a vector of dimension m * 1.\n",
    "    Returns:\n",
    "    rmse: has to be a float.\n",
    "    None if there is a matching dimension problem.\n",
    "    Raises:\n",
    "    This function should not raise any Exceptions.\n",
    "    \"\"\"\n",
    "\n",
    "    return sqrt(mse_(y, y_hat))\n",
    "\n",
    "def mae_(y, y_hat):\n",
    "    \"\"\"\n",
    "    Description:\n",
    "    Calculate the MAE between the predicted output and the real output.\n",
    "    Args:\n",
    "    y: has to be a numpy.array, a vector of dimension m * 1.\n",
    "    y_hat: has to be a numpy.array, a vector of dimension m * 1.\n",
    "    Returns:\n",
    "    mae: has to be a float.\n",
    "    None if there is a matching dimension problem.\n",
    "    Raises:\n",
    "    This function should not raise any Exceptions.\n",
    "    \"\"\"\n",
    "\n",
    "    return np.abs(y - y_hat).mean()\n",
    "\n",
    "def r2score_(y, y_hat):\n",
    "    \"\"\"\n",
    "    Description:\n",
    "    Calculate the R2score between the predicted output and the output.\n",
    "    Args:\n",
    "    y: has to be a numpy.array, a vector of dimension m * 1.\n",
    "    y_hat: has to be a numpy.array, a vector of dimension m * 1.\n",
    "    Returns:\n",
    "    r2score: has to be a float.\n",
    "    None if there is a matching dimension problem.\n",
    "    Raises:\n",
    "    This function should not raise any Exceptions.\n",
    "    \"\"\"\n",
    "\n",
    "    \n",
    "    return 1 - (((y - y_hat) ** 2).sum() / ((y - y.mean()) ** 2).sum())"
   ]
  },
  {
   "cell_type": "code",
   "execution_count": null,
   "id": "3eb4f804-fefc-4ae9-97c7-482c1de9c94a",
   "metadata": {},
   "outputs": [],
   "source": [
    "x = np.array([0, 15, -9, 7, 12, 3, -21])\n",
    "y = np.array([2, 14, -13, 5, 12, 4, -19])"
   ]
  },
  {
   "cell_type": "markdown",
   "id": "e5be27d0-27f7-40fd-9af6-4a433c1e5835",
   "metadata": {},
   "source": [
    "## Testing:\n"
   ]
  },
  {
   "cell_type": "markdown",
   "id": "70c7e507-ee02-48dc-aee3-f9450df5bcf5",
   "metadata": {},
   "source": [
    "### Mean squared error\n"
   ]
  },
  {
   "cell_type": "code",
   "execution_count": null,
   "id": "edf94735-937b-4808-8368-f8f60e27d178",
   "metadata": {},
   "outputs": [],
   "source": [
    "## your implementation\n",
    "my_ = mse_(x,y) ## Output: 4.285714285714286\n",
    "## sklearn implementation\n",
    "sk_ = mean_squared_error(x,y) ## Output: 4.285714285714286"
   ]
  },
  {
   "cell_type": "code",
   "execution_count": null,
   "id": "08c0e8a6-3e17-44da-b306-4ff34c2b806a",
   "metadata": {},
   "outputs": [
    {
     "data": {
      "text/plain": [
       "(4.285714285714286, 4.285714285714286)"
      ]
     },
     "execution_count": null,
     "metadata": {},
     "output_type": "execute_result"
    }
   ],
   "source": [
    "my_, sk_"
   ]
  },
  {
   "cell_type": "markdown",
   "id": "e746c05c-f6a6-4f96-8ca0-54befde5b692",
   "metadata": {},
   "source": [
    "### Root mean squared error\n"
   ]
  },
  {
   "cell_type": "code",
   "execution_count": null,
   "id": "a8b131ed-b199-421f-ad00-2f34f0f3c376",
   "metadata": {},
   "outputs": [],
   "source": [
    "## your implementation\n",
    "my_ = rmse_(x,y) ## Output: 2.0701966780270626\n",
    "## sklearn implementation not available: take the square root of MSE\n",
    "sk_ = sqrt(mean_squared_error(x,y)) ## Output: 2.0701966780270626"
   ]
  },
  {
   "cell_type": "code",
   "execution_count": null,
   "id": "f9d8a4f9-9039-4db1-b4ae-327cfe268882",
   "metadata": {},
   "outputs": [
    {
     "data": {
      "text/plain": [
       "(2.0701966780270626, 2.0701966780270626)"
      ]
     },
     "execution_count": null,
     "metadata": {},
     "output_type": "execute_result"
    }
   ],
   "source": [
    "my_, sk_"
   ]
  },
  {
   "cell_type": "markdown",
   "id": "6b729550-7e11-4770-8add-3db37c3dd582",
   "metadata": {},
   "source": [
    "### Mean absolute error\n"
   ]
  },
  {
   "cell_type": "code",
   "execution_count": null,
   "id": "b313c104-fda1-4b5c-9d60-7c09ab23e089",
   "metadata": {},
   "outputs": [],
   "source": [
    "## your implementation\n",
    "my_ = mae_(x,y)\n",
    "# Output: 1.7142857142857142\n",
    "## sklearn implementation\n",
    "sk_ = mean_absolute_error(x,y)\n",
    "# Output: 1.7142857142857142"
   ]
  },
  {
   "cell_type": "code",
   "execution_count": null,
   "id": "810af7bb-bf03-4f56-b54c-ae10bebf30f1",
   "metadata": {},
   "outputs": [
    {
     "data": {
      "text/plain": [
       "(1.7142857142857142, 1.7142857142857142)"
      ]
     },
     "execution_count": null,
     "metadata": {},
     "output_type": "execute_result"
    }
   ],
   "source": [
    "my_, sk_"
   ]
  },
  {
   "cell_type": "markdown",
   "id": "6bc6912e-e1f4-4f4d-92c6-73a912b31bc3",
   "metadata": {},
   "source": [
    "### R2-score\n"
   ]
  },
  {
   "cell_type": "code",
   "execution_count": null,
   "id": "7fcd41b0-1578-46b4-b693-78f35d92bb53",
   "metadata": {},
   "outputs": [],
   "source": [
    "## your implementation\n",
    "my_ = r2score_(x,y) ## Output: 0.9681721733858745\n",
    "## sklearn implementation\n",
    "sk_ = r2_score(x,y) ## Output: 0.9681721733858745"
   ]
  },
  {
   "cell_type": "code",
   "execution_count": null,
   "id": "8682992a-bf50-476b-bd16-7c2765325945",
   "metadata": {},
   "outputs": [
    {
     "data": {
      "text/plain": [
       "(0.9681528662420382, 0.9681528662420382)"
      ]
     },
     "execution_count": null,
     "metadata": {},
     "output_type": "execute_result"
    }
   ],
   "source": [
    "my_, sk_"
   ]
  },
  {
   "cell_type": "code",
   "execution_count": null,
   "id": "f70a7e83-b518-424d-904c-90e2fa7b1bf3",
   "metadata": {},
   "outputs": [],
   "source": []
  }
 ],
 "metadata": {
  "kernelspec": {
   "display_name": "python3",
   "language": "python",
   "name": "python3"
  }
 },
 "nbformat": 4,
 "nbformat_minor": 5
}
