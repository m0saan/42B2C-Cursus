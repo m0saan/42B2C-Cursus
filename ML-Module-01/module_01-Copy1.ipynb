{
 "cells": [
  {
   "cell_type": "code",
   "execution_count": null,
   "id": "b6a9d2f2-1628-49b4-9437-8aac3f908cf6",
   "metadata": {},
   "outputs": [],
   "source": [
    "import numpy as np"
   ]
  },
  {
   "cell_type": "markdown",
   "id": "31f31b10-5ee6-42c9-9577-f78d73ea0135",
   "metadata": {},
   "source": [
    "# Exercise 00"
   ]
  },
  {
   "cell_type": "code",
   "execution_count": null,
   "id": "2af9e47f-355a-42e9-90c6-1c78dbcb5cc2",
   "metadata": {},
   "outputs": [],
   "source": [
    "def add_intercept(x):\n",
    "    \"\"\"\n",
    "    Adds a column of 1’s to the non-empty numpy.array x.\n",
    "    \n",
    "    Args:\n",
    "    x: has to be a numpy.array of dimension m * n.\n",
    "    \n",
    "    Returns:\n",
    "    X, a numpy.array of dimension m * (n + 1).\n",
    "    None if x is not a numpy.array.\n",
    "    None if x is an empty numpy.array.\n",
    "    \n",
    "    Raises:\n",
    "    This function should not raise any Exception.\n",
    "    \"\"\"\n",
    "\n",
    "    if not isinstance(x, np.ndarray) or x.size == 0:\n",
    "        return None\n",
    "\n",
    "    if len(x.shape) == 1: x = x.reshape(x.shape[0], 1)\n",
    "    \n",
    "    ones = np.ones((x.shape[0], 1))\n",
    "    X = np.hstack((ones, x))\n",
    "    return X\n",
    "    \n",
    "def predict_(x, theta):\n",
    "    \"\"\"\n",
    "    Computes the vector of prediction y_hat from two non-empty numpy.array.\n",
    "    \n",
    "    Args:\n",
    "    x: has to be an numpy.array, a vector of dimension m * 1.\n",
    "    theta: has to be an numpy.array, a vector of dimension 2 * 1.\n",
    "    \n",
    "    Returns:\n",
    "    y_hat as a numpy.array, a vector of dimension m * 1.\n",
    "    None if x and/or theta are not numpy.array.\n",
    "    None if x or theta are empty numpy.array.\n",
    "    None if x or theta dimensions are not appropriate.\n",
    "    \n",
    "    Raises:\n",
    "    This function should not raise any Exceptions.\n",
    "    \"\"\"\n",
    "\n",
    "    if not (isinstance(x, np.ndarray) and isinstance(theta, np.ndarray)):\n",
    "        return None\n",
    "\n",
    "    if x.size == 0 or theta.size == 0:\n",
    "        return None\n",
    "\n",
    "    if theta.shape != (2,1):\n",
    "         return None\n",
    "\n",
    "    return add_intercept(x) @ theta\n",
    "\n",
    "def simple_gradient(x, y, theta):\n",
    "    \"\"\"\n",
    "    Computes a gradient vector from three non-empty numpy.array, with a for-loop.\n",
    "    The three arrays must have compatible shapes.\n",
    "    \n",
    "    Args:\n",
    "    x: has to be an numpy.array, a vector of shape m * 1.\n",
    "    y: has to be an numpy.array, a vector of shape m * 1.\n",
    "    theta: has to be an numpy.array, a 2 * 1 vector.\n",
    "    \n",
    "    Return:\n",
    "    The gradient as a numpy.array, a vector of shape 2 * 1.\n",
    "    None if x, y, or theta are empty numpy.array.\n",
    "    None if x, y and theta do not have compatible shapes.\n",
    "    None if x, y or theta is not of the expected type.\n",
    "    \n",
    "    Raises:\n",
    "    This function should not raise any Exception.\n",
    "    \"\"\"\n",
    "    nabla_w = 0.0\n",
    "    nabla_b = 0.0\n",
    "    y_hat = predict_(x, theta)\n",
    "\n",
    "    for i in range(x.shape[0]):\n",
    "        nabla_w += (y_hat[i] - y[i]) * x[i]\n",
    "        nabla_b += y_hat[i] - y[i]\n",
    "    nabla_w = nabla_w * (1 / x.shape[0])\n",
    "    nabla_b = nabla_b * (1 / x.shape[0])\n",
    "    return np.array([nabla_b, nabla_w])"
   ]
  },
  {
   "cell_type": "code",
   "execution_count": null,
   "id": "c852ce1e-8584-4330-abe3-0e6a61a66861",
   "metadata": {},
   "outputs": [
    {
     "data": {
      "text/plain": [
       "array([[ -19.0342574 ],\n",
       "       [-586.66875564]])"
      ]
     },
     "execution_count": null,
     "metadata": {},
     "output_type": "execute_result"
    }
   ],
   "source": [
    "x = np.array([12.4956442, 21.5007972, 31.5527382, 48.9145838, 57.5088733]).reshape((-1, 1))\n",
    "y = np.array([37.4013816, 36.1473236, 45.7655287, 46.6793434, 59.5585554]).reshape((-1, 1))\n",
    "# Example 0:\n",
    "theta1 = np.array([2, 0.7]).reshape((-1, 1))\n",
    "simple_gradient(x, y, theta1)\n",
    "# Output: array([[-19.0342574], [-586.66875564]])"
   ]
  },
  {
   "cell_type": "code",
   "execution_count": null,
   "id": "bcf828fc-6d0d-485b-bba3-ccbbe213e22c",
   "metadata": {},
   "outputs": [
    {
     "data": {
      "text/plain": [
       "array([[  -57.86823748],\n",
       "       [-2230.12297889]])"
      ]
     },
     "execution_count": null,
     "metadata": {},
     "output_type": "execute_result"
    }
   ],
   "source": [
    "# Example 1:\n",
    "theta2 = np.array([1, -0.4]).reshape((-1, 1))\n",
    "simple_gradient(x, y, theta2)\n",
    "# Output: array([[-57.86823748], [-2230.12297889]])"
   ]
  },
  {
   "cell_type": "markdown",
   "id": "60e1124c-1c35-433c-b50d-9549e3c6184e",
   "metadata": {},
   "source": [
    "# Exercise 01"
   ]
  },
  {
   "cell_type": "code",
   "execution_count": null,
   "id": "100a0468-9c94-4b97-a7a7-1cf49520ed12",
   "metadata": {},
   "outputs": [],
   "source": [
    "def simple_gradient(x, y, theta):\n",
    "    \"\"\"Computes a gradient vector from three non-empty numpy.array, without any for loop.\n",
    "    The three arrays must have compatible shapes.\n",
    "    Args:\n",
    "    x: has to be a numpy.array, a matrix of shape m * 1.\n",
    "    y: has to be a numpy.array, a vector of shape m * 1.\n",
    "    theta: has to be a numpy.array, a 2 * 1 vector.\n",
    "    Return:\n",
    "    The gradient as a numpy.ndarray, a vector of dimension 2 * 1.\n",
    "    None if x, y, or theta is an empty numpy.ndarray.\n",
    "    None if x, y and theta do not have compatible dimensions.\n",
    "    Raises:\n",
    "    This function should not raise any Exception.\n",
    "    \"\"\"\n",
    "    y_hat = predict_(x, theta)\n",
    "    m = x.shape[0]\n",
    "    \n",
    "    return (1/m) * add_intercept(x).T @ (y_hat - y)"
   ]
  },
  {
   "cell_type": "code",
   "execution_count": null,
   "id": "76806b29-b81d-4650-9dac-a85904a104c1",
   "metadata": {},
   "outputs": [
    {
     "data": {
      "text/plain": [
       "array([[ -19.0342574 ],\n",
       "       [-586.66875564]])"
      ]
     },
     "execution_count": null,
     "metadata": {},
     "output_type": "execute_result"
    }
   ],
   "source": [
    "import numpy as np\n",
    "x = np.array([12.4956442, 21.5007972, 31.5527382, 48.9145838, 57.5088733]).reshape((-1, 1))\n",
    "y = np.array([37.4013816, 36.1473236, 45.7655287, 46.6793434, 59.5585554]).reshape((-1, 1))\n",
    "# Example 0:\n",
    "theta1 = np.array([2, 0.7]).reshape((-1, 1))\n",
    "simple_gradient(x, y, theta1)\n",
    "# Output: array([[-19.0342...], [-586.6687...]])"
   ]
  },
  {
   "cell_type": "code",
   "execution_count": null,
   "id": "8dddb657-d258-4ee8-97ef-0d56002c493c",
   "metadata": {},
   "outputs": [
    {
     "data": {
      "text/plain": [
       "array([[  -57.86823748],\n",
       "       [-2230.12297889]])"
      ]
     },
     "execution_count": null,
     "metadata": {},
     "output_type": "execute_result"
    }
   ],
   "source": [
    "# Example 1:\n",
    "theta2 = np.array([1, -0.4]).reshape((-1, 1))\n",
    "simple_gradient(x, y, theta2)\n",
    "# Output: array([[-57.8682...], [-2230.1229...]])"
   ]
  },
  {
   "cell_type": "code",
   "execution_count": null,
   "id": "3ddb5255-1a58-4252-8576-70f1f45daf64",
   "metadata": {},
   "outputs": [
    {
     "data": {
      "text/plain": [
       "(array([[10.74695094],\n",
       "        [17.05055804],\n",
       "        [24.08691674],\n",
       "        [36.24020866],\n",
       "        [42.25621131]]),\n",
       " 5)"
      ]
     },
     "execution_count": null,
     "metadata": {},
     "output_type": "execute_result"
    }
   ],
   "source": [
    "y_hat = predict_(x, theta1)\n",
    "m = x.shape[0]\n",
    "y_hat, m"
   ]
  },
  {
   "cell_type": "code",
   "execution_count": null,
   "id": "64a670d9-8068-4056-9152-91ad280592c4",
   "metadata": {},
   "outputs": [
    {
     "data": {
      "text/plain": [
       "array([[-26.65443066],\n",
       "       [-19.09676556],\n",
       "       [-21.67861196],\n",
       "       [-10.43913474],\n",
       "       [-17.30234409]])"
      ]
     },
     "execution_count": null,
     "metadata": {},
     "output_type": "execute_result"
    }
   ],
   "source": [
    "diff =  (y_hat - y)\n",
    "diff"
   ]
  },
  {
   "cell_type": "code",
   "execution_count": null,
   "id": "079f34fe-78d6-43bf-9083-f1c8a6b95bf6",
   "metadata": {},
   "outputs": [
    {
     "data": {
      "text/plain": [
       "array([[ 1.       ,  1.       ,  1.       ,  1.       ,  1.       ],\n",
       "       [12.4956442, 21.5007972, 31.5527382, 48.9145838, 57.5088733]])"
      ]
     },
     "execution_count": null,
     "metadata": {},
     "output_type": "execute_result"
    }
   ],
   "source": [
    "x_T = add_intercept(x).T \n",
    "x_T"
   ]
  },
  {
   "cell_type": "code",
   "execution_count": null,
   "id": "6af00a9d-e0c4-4550-8389-7c2d1b867a1c",
   "metadata": {},
   "outputs": [
    {
     "data": {
      "text/plain": [
       "array([[  -95.17128701],\n",
       "       [-2933.34377818]])"
      ]
     },
     "execution_count": null,
     "metadata": {},
     "output_type": "execute_result"
    }
   ],
   "source": [
    "out = x_T @ diff\n",
    "out"
   ]
  },
  {
   "cell_type": "code",
   "execution_count": null,
   "id": "5d3357e9-c219-4bf8-bf3c-6fce7934aef6",
   "metadata": {},
   "outputs": [
    {
     "data": {
      "text/plain": [
       "array([[ -19.0342574 ],\n",
       "       [-586.66875564]])"
      ]
     },
     "execution_count": null,
     "metadata": {},
     "output_type": "execute_result"
    }
   ],
   "source": [
    "(1/m) * out"
   ]
  },
  {
   "cell_type": "code",
   "execution_count": null,
   "id": "0b365568-b0d6-420c-b53e-d49363edfdbf",
   "metadata": {},
   "outputs": [],
   "source": []
  },
  {
   "cell_type": "markdown",
   "id": "88b70786-45d7-458d-8ed8-cb23d05367be",
   "metadata": {},
   "source": [
    "# Exercise 02"
   ]
  },
  {
   "cell_type": "code",
   "execution_count": null,
   "id": "ba542e4a-862f-41c4-bca0-51b47be79b7d",
   "metadata": {},
   "outputs": [],
   "source": [
    "def fit_(x, y, theta, alpha, max_iter):\n",
    "    \"\"\"\n",
    "    Description:\n",
    "    Fits the model to the training dataset contained in x and y.\n",
    "    Args:\n",
    "    x: has to be a numpy.ndarray, a vector of dimension m * 1: (number of training examples, 1).\n",
    "    y: has to be a numpy.ndarray, a vector of dimension m * 1: (number of training examples, 1).\n",
    "    theta: has to be a numpy.ndarray, a vector of dimension 2 * 1.\n",
    "    alpha: has to be a float, the learning rate\n",
    "    max_iter: has to be an int, the number of iterations done during the gradient descent\n",
    "    Returns:\n",
    "    new_theta: numpy.ndarray, a vector of dimension 2 * 1.\n",
    "    None if there is a matching dimension problem.\n",
    "    Raises:\n",
    "    This function should not raise any Exception.\n",
    "    \"\"\"\n",
    "    theta = theta.astype(np.float64)\n",
    "    for i in range(max_iter):\n",
    "        grad = simple_gradient(x, y, theta)\n",
    "        theta -= grad.astype(np.float64) * alpha\n",
    "    return theta"
   ]
  },
  {
   "cell_type": "code",
   "execution_count": null,
   "id": "d3803df9-b347-477f-b435-d8e579f30ad0",
   "metadata": {},
   "outputs": [
    {
     "data": {
      "text/plain": [
       "array([[1.40709365],\n",
       "       [1.1150909 ]])"
      ]
     },
     "execution_count": null,
     "metadata": {},
     "output_type": "execute_result"
    }
   ],
   "source": [
    "x = np.array([[12.4956442], [21.5007972], [31.5527382], [48.9145838], [57.5088733]])\n",
    "y = np.array([[37.4013816], [36.1473236], [45.7655287], [46.6793434], [59.5585554]])\n",
    "theta = np.array([1, 1]).reshape((-1, 1))\n",
    "# Example 0:\n",
    "theta1 = fit_(x, y, theta, alpha=5e-8, max_iter=1500000)\n",
    "theta1 # Output: array([[1.40709365], [1.1150909 ]])"
   ]
  },
  {
   "cell_type": "code",
   "execution_count": null,
   "id": "dc8d31d3-a3e5-44ba-86cd-d81937723845",
   "metadata": {},
   "outputs": [
    {
     "data": {
      "text/plain": [
       "array([[15.3408728 ],\n",
       "       [25.38243697],\n",
       "       [36.59126492],\n",
       "       [55.95130097],\n",
       "       [65.53471499]])"
      ]
     },
     "execution_count": null,
     "metadata": {},
     "output_type": "execute_result"
    }
   ],
   "source": [
    "# Example 1:\n",
    "predict_(x, theta1)\n",
    "# Output: array([[15.3408728 ], [25.38243697], [36.59126492],[65.53471499]])"
   ]
  },
  {
   "cell_type": "markdown",
   "id": "5459f8e9-b28a-4930-be44-b36b0d843cf1",
   "metadata": {},
   "source": [
    "# Exercise 03"
   ]
  },
  {
   "cell_type": "code",
   "execution_count": null,
   "id": "c61c028f-68f2-4d7a-bea1-389cb1b0a348",
   "metadata": {},
   "outputs": [],
   "source": [
    "class MyLinearRegression():\n",
    "    \"\"\"\n",
    "    Description:\n",
    "    My personnal linear regression class to fit like a boss.\n",
    "    \"\"\"\n",
    "    def __init__(self, thetas, alpha=0.001, max_iter=1000):\n",
    "        self.alpha = alpha\n",
    "        self.max_iter = max_iter\n",
    "        self.thetas = thetas\n",
    "\n",
    "    def fit_(self, x, y):\n",
    "        self.thetas = theta.astype(np.float64)\n",
    "        for i in range(self.max_iter):\n",
    "            grad = simple_gradient(x, y, self.thetas)\n",
    "            self.thetas-= grad.astype(np.float64) * self.alpha\n",
    "        return self.thetas\n",
    "\n",
    "    def add_intercept(self, x):\n",
    "        \"\"\"\n",
    "        Adds a column of 1’s to the non-empty numpy.array x.\n",
    "        \n",
    "        Args:\n",
    "        x: has to be a numpy.array of dimension m * n.\n",
    "        \n",
    "        Returns:\n",
    "        X, a numpy.array of dimension m * (n + 1).\n",
    "        None if x is not a numpy.array.\n",
    "        None if x is an empty numpy.array.\n",
    "        \n",
    "        Raises:\n",
    "        This function should not raise any Exception.\n",
    "        \"\"\"\n",
    "    \n",
    "        if not isinstance(x, np.ndarray) or x.size == 0:\n",
    "            return None\n",
    "    \n",
    "        if len(x.shape) == 1: x = x.reshape(x.shape[0], 1)\n",
    "        \n",
    "        ones = np.ones((x.shape[0], 1))\n",
    "        X = np.hstack((ones, x))\n",
    "        return X\n",
    "    \n",
    "    def predict_(self, x):\n",
    "        \"\"\"\n",
    "        Computes the vector of prediction y_hat from two non-empty numpy.array.\n",
    "        \n",
    "        Args:\n",
    "        x: has to be an numpy.array, a vector of dimension m * 1.\n",
    "        theta: has to be an numpy.array, a vector of dimension 2 * 1.\n",
    "        \n",
    "        Returns:\n",
    "        y_hat as a numpy.array, a vector of dimension m * 1.\n",
    "        None if x and/or theta are not numpy.array.\n",
    "        None if x or theta are empty numpy.array.\n",
    "        None if x or theta dimensions are not appropriate.\n",
    "        \n",
    "        Raises:\n",
    "        This function should not raise any Exceptions.\n",
    "        \"\"\"\n",
    "    \n",
    "        if not (isinstance(x, np.ndarray) and isinstance(self.thetas, np.ndarray)):\n",
    "            return None\n",
    "    \n",
    "        if x.size == 0 or self.thetas.size == 0:\n",
    "            return None\n",
    "    \n",
    "        if self.thetas.shape != (2,1):\n",
    "             return None\n",
    "\n",
    "        return self.add_intercept(x) @ self.thetas\n",
    "\n",
    "    \n",
    "    def loss_elem_(self, y, y_hat):\n",
    "        if not (isinstance(y, np.ndarray) and isinstance(y_hat, np.ndarray)):\n",
    "            return None\n",
    "        \n",
    "        if y.shape != y_hat.shape:\n",
    "            return None\n",
    "    \n",
    "        J_elem = np.zeros(y.shape)\n",
    "        for i in range(len(y)):\n",
    "            J_elem[i] = (y[i] - y_hat[i]) ** 2\n",
    "\n",
    "        return J_elem\n",
    "        \n",
    "    def loss_(self, y, y_hat):\n",
    "        \n",
    "        J_elem = self.loss_elem_(y, y_hat)\n",
    "        if J_elem is None:\n",
    "            return None\n",
    "    \n",
    "        J_value = 0.0\n",
    "        for elem in J_elem:\n",
    "            J_value += elem\n",
    "        J_value /= (2 * len(J_elem))\n",
    "    \n",
    "        return float(J_value)\n",
    "\n",
    "    @staticmethod\n",
    "    def mse_(y, y_hat):\n",
    "        \"\"\"\n",
    "        Description:\n",
    "        Calculate the MSE between the predicted output and the real output.\n",
    "        \n",
    "        Args:\n",
    "        y: has to be a numpy.array, a vector of dimension m * 1.\n",
    "        y_hat: has to be a numpy.array, a vector of dimension m * 1.\n",
    "        \n",
    "        Returns:\n",
    "        mse: has to be a float.\n",
    "        None if there is a matching dimension problem.\n",
    "        \n",
    "        Raises:\n",
    "        This function should not raise any Exceptions.\n",
    "        \"\"\"\n",
    "        return ((y - y_hat) ** 2).mean()\n",
    "\n",
    "    @classmethod\n",
    "    def rmse_(y, y_hat):\n",
    "        \"\"\"\n",
    "        Description:\n",
    "        Calculate the RMSE between the predicted output and the real output.\n",
    "        Args:\n",
    "        y: has to be a numpy.array, a vector of dimension m * 1.\n",
    "        y_hat: has to be a numpy.array, a vector of dimension m * 1.\n",
    "        Returns:\n",
    "        rmse: has to be a float.\n",
    "        None if there is a matching dimension problem.\n",
    "        Raises:\n",
    "        This function should not raise any Exceptions.\n",
    "        \"\"\"\n",
    "        return sqrt(mse_(y, y_hat))\n",
    "    \n",
    "    @classmethod\n",
    "    def mae_(y, y_hat):\n",
    "        \"\"\"\n",
    "        Description:\n",
    "        Calculate the MAE between the predicted output and the real output.\n",
    "        Args:\n",
    "        y: has to be a numpy.array, a vector of dimension m * 1.\n",
    "        y_hat: has to be a numpy.array, a vector of dimension m * 1.\n",
    "        Returns:\n",
    "        mae: has to be a float.\n",
    "        None if there is a matching dimension problem.\n",
    "        Raises:\n",
    "        This function should not raise any Exceptions.\n",
    "        \"\"\"\n",
    "        return np.abs(y - y_hat).mean()\n",
    "\n",
    "    @classmethod\n",
    "    def r2score_(y, y_hat):\n",
    "        \"\"\"\n",
    "        Description:\n",
    "        Calculate the R2score between the predicted output and the output.\n",
    "        Args:\n",
    "        y: has to be a numpy.array, a vector of dimension m * 1.\n",
    "        y_hat: has to be a numpy.array, a vector of dimension m * 1.\n",
    "        Returns:\n",
    "        r2score: has to be a float.\n",
    "        None if there is a matching dimension problem.\n",
    "        Raises:\n",
    "        This function should not raise any Exceptions.\n",
    "        \"\"\"\n",
    "        return 1 - (((y - y_hat) ** 2).sum() / ((y - y.mean()) ** 2).sum())"
   ]
  },
  {
   "cell_type": "code",
   "execution_count": null,
   "id": "15d115ed-6d3c-49bf-a22e-58032d06c47b",
   "metadata": {},
   "outputs": [
    {
     "data": {
      "text/plain": [
       "array([[10.74695094],\n",
       "       [17.05055804],\n",
       "       [24.08691674],\n",
       "       [36.24020866],\n",
       "       [42.25621131]])"
      ]
     },
     "execution_count": null,
     "metadata": {},
     "output_type": "execute_result"
    }
   ],
   "source": [
    "import numpy as np\n",
    "x = np.array([[12.4956442], [21.5007972], [31.5527382], [48.9145838], [57.5088733]])\n",
    "y = np.array([[37.4013816], [36.1473236], [45.7655287], [46.6793434], [59.5585554]])\n",
    "\n",
    "lr1 = MyLinearRegression(np.array([[2], [0.7]]))\n",
    "# Example 0.0:\n",
    "y_hat = lr1.predict_(x)\n",
    "y_hat\n",
    "# Output: array([[10.74695094], [17.05055804], [24.08691674], [36.24020866], [42.25621131]])"
   ]
  },
  {
   "cell_type": "code",
   "execution_count": null,
   "id": "fc55fe18-aabb-4c61-8424-73011b9ea2ba",
   "metadata": {},
   "outputs": [
    {
     "data": {
      "text/plain": [
       "array([[710.45867381],\n",
       "       [364.68645485],\n",
       "       [469.96221651],\n",
       "       [108.97553412],\n",
       "       [299.37111101]])"
      ]
     },
     "execution_count": null,
     "metadata": {},
     "output_type": "execute_result"
    }
   ],
   "source": [
    "# Example 0.1:\n",
    "lr1.loss_elem_(y, y_hat)\n",
    "# Output: array([[710.45867381], [364.68645485], [469.96221651], [108.97553412], [299.37111101]])"
   ]
  },
  {
   "cell_type": "code",
   "execution_count": null,
   "id": "47c132d3-2969-4835-9bae-dcc936c96a65",
   "metadata": {},
   "outputs": [
    {
     "data": {
      "text/plain": [
       "195.34539903032382"
      ]
     },
     "execution_count": null,
     "metadata": {},
     "output_type": "execute_result"
    }
   ],
   "source": [
    "# Example 0.2:\n",
    "lr1.loss_(y, y_hat)\n",
    "# Output: 195.34539903032385"
   ]
  },
  {
   "cell_type": "code",
   "execution_count": null,
   "id": "6f737bc0-32ed-476a-9352-74b8af28f318",
   "metadata": {},
   "outputs": [
    {
     "data": {
      "text/plain": [
       "array([[1.40709365],\n",
       "       [1.1150909 ]])"
      ]
     },
     "execution_count": null,
     "metadata": {},
     "output_type": "execute_result"
    }
   ],
   "source": [
    "# Example 1.0:\n",
    "lr2 = MyLinearRegression(np.array([[1], [1]]), 5e-8, 1500000)\n",
    "lr2.fit_(x, y)\n",
    "lr2.thetas\n",
    "# Output: array([[1.40709365], [1.1150909 ]])"
   ]
  },
  {
   "cell_type": "code",
   "execution_count": null,
   "id": "3b71c4cb-425e-480d-956a-885b56311425",
   "metadata": {},
   "outputs": [
    {
     "data": {
      "text/plain": [
       "array([[15.3408728 ],\n",
       "       [25.38243697],\n",
       "       [36.59126492],\n",
       "       [55.95130097],\n",
       "       [65.53471499]])"
      ]
     },
     "execution_count": null,
     "metadata": {},
     "output_type": "execute_result"
    }
   ],
   "source": [
    "# Example 1.1:\n",
    "y_hat = lr2.predict_(x)\n",
    "y_hat\n",
    "# Output: array([[15.3408728 ], [25.38243697], [36.59126492], [55.95130097], [65.53471499]])"
   ]
  },
  {
   "cell_type": "code",
   "execution_count": null,
   "id": "007dd52f-a13d-4b77-b140-ebcd3a12a4db",
   "metadata": {},
   "outputs": [
    {
     "data": {
      "text/plain": [
       "array([[486.66604863],\n",
       "       [115.88278416],\n",
       "       [ 84.16711596],\n",
       "       [ 85.96919719],\n",
       "       [ 35.71448348]])"
      ]
     },
     "execution_count": null,
     "metadata": {},
     "output_type": "execute_result"
    }
   ],
   "source": [
    "# Example 1.2:\n",
    "lr2.loss_elem_(y, y_hat)\n",
    "# Output: array([[486.66604863], [115.88278416],[ 84.16711596], [ 85.96919719], [ 35.71448348]])"
   ]
  },
  {
   "cell_type": "code",
   "execution_count": null,
   "id": "5d399597-8d18-416c-bedc-961576046437",
   "metadata": {},
   "outputs": [
    {
     "data": {
      "text/plain": [
       "80.83996294128524"
      ]
     },
     "execution_count": null,
     "metadata": {},
     "output_type": "execute_result"
    }
   ],
   "source": [
    "# Example 1.3:\n",
    "lr2.loss_(y, y_hat)\n",
    "# Output:80.8399629412852"
   ]
  },
  {
   "cell_type": "markdown",
   "id": "7e050a76-7f82-4fb2-a9db-51524bc113b2",
   "metadata": {},
   "source": [
    "# Exercise 04"
   ]
  },
  {
   "cell_type": "code",
   "execution_count": null,
   "id": "13afeb17-8cf6-41ab-ab57-8ed0069ffa26",
   "metadata": {},
   "outputs": [
    {
     "name": "stdout",
     "output_type": "stream",
     "text": [
      "are_blue_pills_magics.csv module_01-Copy1.ipynb     module_02.ipynb\n"
     ]
    }
   ],
   "source": [
    "!ls ."
   ]
  },
  {
   "cell_type": "code",
   "execution_count": null,
   "id": "3cac207d-2e4c-4e1b-9a18-ccb196e4af61",
   "metadata": {},
   "outputs": [
    {
     "name": "stdout",
     "output_type": "stream",
     "text": [
      "57.603042857142825\n",
      "57.603042857142825\n",
      "232.16344285714283\n",
      "232.16344285714283\n"
     ]
    }
   ],
   "source": [
    "import pandas as pd\n",
    "import numpy as np\n",
    "from sklearn.metrics import mean_squared_error\n",
    "# from mylinearregression import MyLinearRegression as MyLR\n",
    "data = pd.read_csv(\"./are_blue_pills_magics.csv\")\n",
    "Xpill = np.array(data['Micrograms']).reshape(-1,1)\n",
    "Yscore = np.array(data['Score']).reshape(-1,1)\n",
    "linear_model1 = MyLinearRegression(np.array([[89.0], [-8]]))\n",
    "linear_model2 = MyLinearRegression(np.array([[89.0], [-6]]))\n",
    "Y_model1 = linear_model1.predict_(Xpill)\n",
    "Y_model2 = linear_model2.predict_(Xpill)\n",
    "print(MyLinearRegression.mse_(Yscore, Y_model1))\n",
    "# 57.60304285714282\n",
    "print(mean_squared_error(Yscore, Y_model1))\n",
    "# 57.603042857142825\n",
    "print(MyLinearRegression.mse_(Yscore, Y_model2))\n",
    "# 232.16344285714285\n",
    "print(mean_squared_error(Yscore, Y_model2))\n",
    "# 232.16344285714285"
   ]
  },
  {
   "cell_type": "markdown",
   "id": "dafd4bc7-f236-49c6-8578-ad907b8c8c80",
   "metadata": {},
   "source": [
    "# Exercise 05"
   ]
  },
  {
   "cell_type": "code",
   "execution_count": null,
   "id": "c833c8cb-12be-494c-872a-df5709be66f3",
   "metadata": {},
   "outputs": [],
   "source": [
    "def zscore(x):\n",
    "    \"\"\"\n",
    "    Computes the normalized version of a non-empty numpy.ndarray using the z-score standardization.\n",
    "    \n",
    "    Args:\n",
    "    x: has to be an numpy.ndarray, a vector.\n",
    "    \n",
    "    Returns:\n",
    "    x’ as a numpy.ndarray.\n",
    "    None if x is a non-empty numpy.ndarray or not a numpy.ndarray.\n",
    "    \n",
    "    Raises:\n",
    "    This function shouldn’t raise any Exception.\n",
    "    \"\"\"\n",
    "    mean, std = x.mean(), x.std()\n",
    "\n",
    "    return (x - mean) / std"
   ]
  },
  {
   "cell_type": "code",
   "execution_count": null,
   "id": "6326470e-8cd1-4d71-89ca-0c5b440b020e",
   "metadata": {},
   "outputs": [
    {
     "data": {
      "text/plain": [
       "array([-0.08620324,  1.2068453 , -0.86203236,  0.51721942,  0.94823559,\n",
       "        0.17240647, -1.89647119])"
      ]
     },
     "execution_count": null,
     "metadata": {},
     "output_type": "execute_result"
    }
   ],
   "source": [
    "# Example 1:\n",
    "X = np.array([0, 15, -9, 7, 12, 3, -21])\n",
    "zscore(X)\n",
    "# Output: array([-0.08620324, 1.2068453 , -0.86203236, 0.51721942, 0.94823559, 0.17240647, -1.89647119])"
   ]
  },
  {
   "cell_type": "code",
   "execution_count": null,
   "id": "571af441-ca05-4ade-a1cf-099a7cb708ed",
   "metadata": {},
   "outputs": [
    {
     "data": {
      "text/plain": [
       "array([[ 0.11267619],\n",
       "       [ 1.16432067],\n",
       "       [-1.20187941],\n",
       "       [ 0.37558731],\n",
       "       [ 0.98904659],\n",
       "       [ 0.28795027],\n",
       "       [-1.72770165]])"
      ]
     },
     "execution_count": null,
     "metadata": {},
     "output_type": "execute_result"
    }
   ],
   "source": [
    "# Example 2:\n",
    "Y = np.array([2, 14, -13, 5, 12, 4, -19]).reshape((-1, 1))\n",
    "zscore(Y)\n",
    "# Output: array([ 0.11267619, 1.16432067, -1.20187941, 0.37558731, 0.98904659, 0.28795027, -1.72770165])"
   ]
  },
  {
   "cell_type": "markdown",
   "id": "290e60a2-6ff6-4f3c-b222-eac4a65c70c8",
   "metadata": {},
   "source": [
    "# Exercise 06"
   ]
  },
  {
   "cell_type": "code",
   "execution_count": null,
   "id": "e0d459b1-ae2c-402b-8b8a-ba7fb3d01a94",
   "metadata": {},
   "outputs": [],
   "source": [
    "def minmax(x):\n",
    "    \"\"\"Computes the normalized version of a non-empty numpy.ndarray using the min-max standardization.\n",
    "    Args:\n",
    "    x: has to be an numpy.ndarray, a vector.\n",
    "    Returns:\n",
    "    x’ as a numpy.ndarray.\n",
    "    None if x is a non-empty numpy.ndarray or not a numpy.ndarray.\n",
    "    Raises:\n",
    "    This function shouldn’t raise any Exception.\n",
    "    \"\"\"\n",
    "    min, max = x.min(), x.max()\n",
    "    return (x - min) / (max - min)"
   ]
  },
  {
   "cell_type": "code",
   "execution_count": null,
   "id": "139b3151-8c69-4fab-a8c9-fd23eb61af18",
   "metadata": {},
   "outputs": [
    {
     "data": {
      "text/plain": [
       "array([[0.58333333],\n",
       "       [1.        ],\n",
       "       [0.33333333],\n",
       "       [0.77777778],\n",
       "       [0.91666667],\n",
       "       [0.66666667],\n",
       "       [0.        ]])"
      ]
     },
     "execution_count": null,
     "metadata": {},
     "output_type": "execute_result"
    }
   ],
   "source": [
    "# Example 1:\n",
    "X = np.array([0, 15, -9, 7, 12, 3, -21]).reshape((-1, 1))\n",
    "minmax(X)\n",
    "# Output: array([0.58333333, 1. , 0.33333333, 0.77777778, 0.91666667,0.66666667, 0. ])"
   ]
  },
  {
   "cell_type": "code",
   "execution_count": null,
   "id": "f81921cf-9914-4e82-913b-a2a412ea8ade",
   "metadata": {},
   "outputs": [
    {
     "data": {
      "text/plain": [
       "array([[0.63636364],\n",
       "       [1.        ],\n",
       "       [0.18181818],\n",
       "       [0.72727273],\n",
       "       [0.93939394],\n",
       "       [0.6969697 ],\n",
       "       [0.        ]])"
      ]
     },
     "execution_count": null,
     "metadata": {},
     "output_type": "execute_result"
    }
   ],
   "source": [
    "# Example 2:\n",
    "Y = np.array([2, 14, -13, 5, 12, 4, -19]).reshape((-1, 1))\n",
    "minmax(Y)\n",
    "# Output: array([0.63636364, 1. , 0.18181818, 0.72727273, 0.93939394, 0.6969697 , 0. ])"
   ]
  },
  {
   "cell_type": "code",
   "execution_count": null,
   "id": "0243d865-253e-45f1-9f5c-2cd5bb7a7408",
   "metadata": {},
   "outputs": [],
   "source": []
  }
 ],
 "metadata": {
  "kernelspec": {
   "display_name": "python3",
   "language": "python",
   "name": "python3"
  }
 },
 "nbformat": 4,
 "nbformat_minor": 5
}
