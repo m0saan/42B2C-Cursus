{
 "cells": [
  {
   "cell_type": "code",
   "execution_count": null,
   "id": "b6a9d2f2-1628-49b4-9437-8aac3f908cf6",
   "metadata": {},
   "outputs": [],
   "source": [
    "import numpy as np"
   ]
  },
  {
   "cell_type": "markdown",
   "id": "31f31b10-5ee6-42c9-9577-f78d73ea0135",
   "metadata": {},
   "source": [
    "# Exercise 00"
   ]
  },
  {
   "cell_type": "code",
   "execution_count": null,
   "id": "2af9e47f-355a-42e9-90c6-1c78dbcb5cc2",
   "metadata": {},
   "outputs": [],
   "source": [
    "def simple_predict(x, theta):\n",
    "    \"\"\"\n",
    "    Computes the prediction vector y_hat from two non-empty numpy.array.\n",
    "    \n",
    "    Args:\n",
    "    x: has to be an numpy.array, a matrix of dimension m * n.\n",
    "    theta: has to be an numpy.array, a vector of dimension (n + 1) * 1.\n",
    "    \n",
    "    Return:\n",
    "    y_hat as a numpy.array, a vector of dimension m * 1.\n",
    "    None if x or theta are empty numpy.array.\n",
    "    None if x or theta dimensions are not matching.\n",
    "    None if x or theta is not of expected type.\n",
    "    \n",
    "    Raises:\n",
    "    This function should not raise any Exception.\n",
    "    \"\"\"\n",
    "    if type(x) != np.ndarray or type(theta) != np.ndarray or x.size == 0 or theta.size == 0:\n",
    "        return None\n",
    "    if x.shape[1] + 1 != theta.shape[0] or len(theta.shape) != 2 or theta.shape[1] != 1:\n",
    "        return None\n",
    "    m = x.shape[0]\n",
    "    y_hat = np.zeros((m, 1))\n",
    "    for i in range(m):\n",
    "        y_hat[i] = theta[0]  # bias term\n",
    "        for j in range(1, theta.shape[0]):\n",
    "            y_hat[i] += x[i, j-1] * theta[j]\n",
    "    return y_hat"
   ]
  },
  {
   "cell_type": "code",
   "execution_count": null,
   "id": "c852ce1e-8584-4330-abe3-0e6a61a66861",
   "metadata": {},
   "outputs": [
    {
     "data": {
      "text/plain": [
       "array([[5.],\n",
       "       [5.],\n",
       "       [5.],\n",
       "       [5.]])"
      ]
     },
     "execution_count": null,
     "metadata": {},
     "output_type": "execute_result"
    }
   ],
   "source": [
    "x = np.arange(1,13).reshape((4,-1))\n",
    "theta1 = np.array([5, 0, 0, 0]).reshape((-1, 1))\n",
    "\n",
    "simple_predict(x, theta1)\n",
    "# Ouput: array([[5.], [5.], [5.], [5.]])\n",
    "# Do you understand why y_hat contains only 5’s here?"
   ]
  },
  {
   "cell_type": "code",
   "execution_count": null,
   "id": "767cd563-4fb0-45ee-a9b7-aef14ba2b028",
   "metadata": {},
   "outputs": [
    {
     "data": {
      "text/plain": [
       "array([[ 1.],\n",
       "       [ 4.],\n",
       "       [ 7.],\n",
       "       [10.]])"
      ]
     },
     "execution_count": null,
     "metadata": {},
     "output_type": "execute_result"
    }
   ],
   "source": [
    "# Example 2:\n",
    "theta2 = np.array([0, 1, 0, 0]).reshape((-1, 1))\n",
    "simple_predict(x, theta2)\n",
    "# Output: array([[ 1.], [ 4.], [ 7.], [10.]])\n",
    "# Do you understand why y_hat == x[:,0] here?"
   ]
  },
  {
   "cell_type": "markdown",
   "id": "60e1124c-1c35-433c-b50d-9549e3c6184e",
   "metadata": {},
   "source": [
    "# Exercise 01"
   ]
  },
  {
   "cell_type": "code",
   "execution_count": null,
   "id": "100a0468-9c94-4b97-a7a7-1cf49520ed12",
   "metadata": {},
   "outputs": [],
   "source": [
    "def predict_(x, theta):\n",
    "    \"\"\"Computes the prediction vector y_hat from two non-empty numpy.array.\n",
    "    Args:\n",
    "    x: has to be an numpy.array, a vector of dimensions m * n.\n",
    "    theta: has to be an numpy.array, a vector of dimensions (n + 1) * 1.\n",
    "    Return:\n",
    "    y_hat as a numpy.array, a vector of dimensions m * 1.\n",
    "    None if x or theta are empty numpy.array.\n",
    "    None if x or theta dimensions are not appropriate.\n",
    "    None if x or theta is not of expected type.\n",
    "    Raises:\n",
    "    This function should not raise any Exception.\n",
    "    \"\"\"\n",
    "\n",
    "    if type(x) != np.ndarray or type(theta) != np.ndarray or x.size == 0 or theta.size == 0:\n",
    "        return None\n",
    "    if x.shape[1] + 1 != theta.shape[0] or len(theta.shape) != 2 or theta.shape[1] != 1:\n",
    "        return None\n",
    "\n",
    "    ones = np.ones((x.shape[0], 1))\n",
    "    X = np.hstack((ones, x))\n",
    "    return X @ theta"
   ]
  },
  {
   "cell_type": "code",
   "execution_count": null,
   "id": "76806b29-b81d-4650-9dac-a85904a104c1",
   "metadata": {},
   "outputs": [
    {
     "data": {
      "text/plain": [
       "array([[5.],\n",
       "       [5.],\n",
       "       [5.],\n",
       "       [5.]])"
      ]
     },
     "execution_count": null,
     "metadata": {},
     "output_type": "execute_result"
    }
   ],
   "source": [
    "import numpy as np\n",
    "x = np.arange(1,13).reshape((4,-1))\n",
    "theta1 = np.array([5, 0, 0, 0]).reshape((-1, 1))\n",
    "predict_(x, theta1)\n",
    "# Ouput: array([[5.], [5.], [5.], [5.]])\n",
    "# Do you understand why y_hat contains only 5’s here?"
   ]
  },
  {
   "cell_type": "code",
   "execution_count": null,
   "id": "d9476761-ee57-4b6b-ab4c-0b50102b674b",
   "metadata": {},
   "outputs": [
    {
     "data": {
      "text/plain": [
       "array([[ 1.],\n",
       "       [ 4.],\n",
       "       [ 7.],\n",
       "       [10.]])"
      ]
     },
     "execution_count": null,
     "metadata": {},
     "output_type": "execute_result"
    }
   ],
   "source": [
    "theta2 = np.array([0, 1, 0, 0]).reshape((-1, 1))\n",
    "predict_(x, theta2)\n",
    "# Output: array([[ 1.], [ 4.], [ 7.], [10.]])\n",
    "# Do you understand why y_hat == x[:,0] here?"
   ]
  },
  {
   "cell_type": "code",
   "execution_count": null,
   "id": "1ad0d63f-819e-4e86-be6c-fd136c73fb98",
   "metadata": {},
   "outputs": [
    {
     "data": {
      "text/plain": [
       "array([[ 9.64],\n",
       "       [24.28],\n",
       "       [38.92],\n",
       "       [53.56]])"
      ]
     },
     "execution_count": null,
     "metadata": {},
     "output_type": "execute_result"
    }
   ],
   "source": [
    "theta3 = np.array([-1.5, 0.6, 2.3, 1.98]).reshape((-1, 1))\n",
    "predict_(x, theta3)\n",
    "# Output: array([[ 9.64], [24.28], [38.92], [53.56]])"
   ]
  },
  {
   "cell_type": "code",
   "execution_count": null,
   "id": "fc7ee934-1828-4d77-950b-f9e1f3b2fb51",
   "metadata": {},
   "outputs": [
    {
     "data": {
      "text/plain": [
       "array([[12.5],\n",
       "       [32. ],\n",
       "       [51.5],\n",
       "       [71. ]])"
      ]
     },
     "execution_count": null,
     "metadata": {},
     "output_type": "execute_result"
    }
   ],
   "source": [
    "theta4 = np.array([-3, 1, 2, 3.5]).reshape((-1, 1))\n",
    "predict_(x, theta4)\n",
    "# Output: array([[12.5], [32. ], [51.5], [71. ]])"
   ]
  },
  {
   "cell_type": "markdown",
   "id": "88b70786-45d7-458d-8ed8-cb23d05367be",
   "metadata": {},
   "source": [
    "# Exercise 02"
   ]
  },
  {
   "cell_type": "code",
   "execution_count": null,
   "id": "ba542e4a-862f-41c4-bca0-51b47be79b7d",
   "metadata": {},
   "outputs": [],
   "source": [
    "def loss_(y, y_hat):\n",
    "    \"\"\"Computes the mean squared error of two non-empty numpy.array, without any for loop.\n",
    "    The two arrays must have the same dimensions.\n",
    "    Args:\n",
    "    y: has to be an numpy.array, a vector.\n",
    "    y_hat: has to be an numpy.array, a vector.\n",
    "    Return:\n",
    "    The mean squared error of the two vectors as a float.\n",
    "    None if y or y_hat are empty numpy.array.\n",
    "    None if y and y_hat does not share the same dimensions.\n",
    "    None if y or y_hat is not of expected type.\n",
    "    Raises:\n",
    "    This function should not raise any Exception.\n",
    "    \"\"\"\n",
    "    return ((y_hat - y) ** 2).mean() * .5"
   ]
  },
  {
   "cell_type": "code",
   "execution_count": null,
   "id": "d3803df9-b347-477f-b435-d8e579f30ad0",
   "metadata": {},
   "outputs": [
    {
     "data": {
      "text/plain": [
       "2.142857142857143"
      ]
     },
     "execution_count": null,
     "metadata": {},
     "output_type": "execute_result"
    }
   ],
   "source": [
    "import numpy as np\n",
    "X = np.array([0, 15, -9, 7, 12, 3, -21]).reshape((-1, 1))\n",
    "Y = np.array([2, 14, -13, 5, 12, 4, -19]).reshape((-1, 1))\n",
    "# Example 1:\n",
    "loss_(X, Y)\n",
    "# Output: 2.142857142857143"
   ]
  },
  {
   "cell_type": "code",
   "execution_count": null,
   "id": "aab95627-ef9e-4722-bcac-4fb386e6009a",
   "metadata": {},
   "outputs": [
    {
     "data": {
      "text/plain": [
       "0.0"
      ]
     },
     "execution_count": null,
     "metadata": {},
     "output_type": "execute_result"
    }
   ],
   "source": [
    "# Example 2:\n",
    "loss_(X, X)\n",
    "# Output: 0.0"
   ]
  },
  {
   "cell_type": "markdown",
   "id": "5459f8e9-b28a-4930-be44-b36b0d843cf1",
   "metadata": {},
   "source": [
    "# Exercise 03"
   ]
  },
  {
   "cell_type": "code",
   "execution_count": null,
   "id": "c61c028f-68f2-4d7a-bea1-389cb1b0a348",
   "metadata": {},
   "outputs": [],
   "source": [
    "\n",
    "import numpy as np\n",
    "\n",
    "def add_intercept(x):\n",
    "    \"\"\"Append a column of ones to numpy array x.\"\"\"\n",
    "    return np.concatenate((np.ones((x.shape[0], 1)), x), axis=1)\n",
    "\n",
    "def predict_(x, theta):\n",
    "    \"\"\"Compute linear regression prediction.\"\"\"\n",
    "    return add_intercept(x) @ theta\n",
    "\n",
    "def gradient(x, y, theta):\n",
    "    \"\"\"Computes a gradient vector from three non-empty numpy.array, without any for-loop.\n",
    "    The three arrays must have the compatible dimensions.\n",
    "    Args:\n",
    "    x: has to be an numpy.array, a matrix of dimension m * n.\n",
    "    y: has to be an numpy.array, a vector of dimension m * 1.\n",
    "    theta: has to be an numpy.array, a vector (n +1) * 1.\n",
    "    Return:\n",
    "    The gradient as a numpy.array, a vector of dimensions n * 1,\n",
    "    containg the result of the formula for all j.\n",
    "    None if x, y, or theta are empty numpy.array.\n",
    "    None if x, y and theta do not have compatible dimensions.\n",
    "    None if x, y or theta is not of expected type.\n",
    "    Raises:\n",
    "    This function should not raise any Exception.\n",
    "    \"\"\"\n",
    "    # if type(x) != np.ndarray or type(theta) != np.ndarray or x.size == 0 or theta.size == 0:\n",
    "    #     return None\n",
    "    # if x.shape[1] + 1 != theta.shape[0] or len(theta.shape) != 2 or theta.shape[1] != 1:\n",
    "    #     return None\n",
    "    \n",
    "    m, n = x.shape\n",
    "    # if y.shape != (m, 1) or theta.shape != (n + 1, 1):\n",
    "    #     return None\n",
    "\n",
    "    # Add a bias term to x\n",
    "    x_bias = np.c_[np.ones((m, 1)), x]\n",
    "\n",
    "    # Calculate the gradient\n",
    "    gradients = 1.0/m * x_bias.T.dot(x_bias.dot(theta) - y)\n",
    "\n",
    "    return gradients"
   ]
  },
  {
   "cell_type": "code",
   "execution_count": null,
   "id": "15d115ed-6d3c-49bf-a22e-58032d06c47b",
   "metadata": {},
   "outputs": [],
   "source": [
    "import numpy as np\n",
    "x = np.array([\n",
    "[ -6, -7, -9],\n",
    "[ 13, -2, 14],\n",
    "[ -7, 14, -1],\n",
    "[ -8, -4, 6],\n",
    "[ -5, -9, 6],\n",
    "[ 1, -5, 11],\n",
    "[ 9, -11, 8]])\n",
    "y = np.array([2, 14, -13, 5, 12, 4, -19]).reshape((-1, 1))\n",
    "theta1 = np.array([1, 3, 0.5,-6]).reshape((-1, 1))\n",
    "# Example :\n",
    "# gradient(x, y, theta1)\n",
    "# Output: array([[ -33.71428571], [ -37.35714286], [183.14285714], [-393.]])"
   ]
  },
  {
   "cell_type": "code",
   "execution_count": null,
   "id": "3d46d4ad-ffad-49ee-b597-93df10ebc3d1",
   "metadata": {},
   "outputs": [
    {
     "data": {
      "text/plain": [
       "array([[  1.,  -6.,  -7.,  -9.],\n",
       "       [  1.,  13.,  -2.,  14.],\n",
       "       [  1.,  -7.,  14.,  -1.],\n",
       "       [  1.,  -8.,  -4.,   6.],\n",
       "       [  1.,  -5.,  -9.,   6.],\n",
       "       [  1.,   1.,  -5.,  11.],\n",
       "       [  1.,   9., -11.,   8.]])"
      ]
     },
     "execution_count": null,
     "metadata": {},
     "output_type": "execute_result"
    }
   ],
   "source": [
    "m, n = x.shape\n",
    "# if y.shape != (m, 1) or theta.shape != (n + 1, 1):\n",
    "#     return None\n",
    "\n",
    "# Add a bias term to x\n",
    "x_bias = np.c_[np.ones((m, 1)), x]\n",
    "x_bias"
   ]
  },
  {
   "cell_type": "code",
   "execution_count": null,
   "id": "c0e4b443-568a-4a45-bdfc-ddafaec8c0a7",
   "metadata": {},
   "outputs": [
    {
     "data": {
      "text/plain": [
       "array([[ 1. ],\n",
       "       [ 3. ],\n",
       "       [ 0.5],\n",
       "       [-6. ]])"
      ]
     },
     "execution_count": null,
     "metadata": {},
     "output_type": "execute_result"
    }
   ],
   "source": [
    "theta1"
   ]
  },
  {
   "cell_type": "code",
   "execution_count": null,
   "id": "a9367325-37d2-4c40-a4cd-2c5ee4ee14d5",
   "metadata": {},
   "outputs": [
    {
     "data": {
      "text/plain": [
       "array([[ 31.5],\n",
       "       [-59. ],\n",
       "       [  6. ],\n",
       "       [-66. ],\n",
       "       [-66.5],\n",
       "       [-68.5],\n",
       "       [ -6.5]])"
      ]
     },
     "execution_count": null,
     "metadata": {},
     "output_type": "execute_result"
    }
   ],
   "source": [
    "(x_bias.dot(theta1) - y)"
   ]
  },
  {
   "cell_type": "code",
   "execution_count": null,
   "id": "b6b44ab9-7eff-412b-9b1b-d5afe562e27f",
   "metadata": {},
   "outputs": [
    {
     "data": {
      "text/plain": [
       "array([[ -32.71428571],\n",
       "       [ -37.78571429],\n",
       "       [ 179.71428571],\n",
       "       [-388.        ]])"
      ]
     },
     "execution_count": null,
     "metadata": {},
     "output_type": "execute_result"
    }
   ],
   "source": [
    "1.0/m * x_bias.T.dot((x_bias.dot(theta1) - y))"
   ]
  },
  {
   "cell_type": "code",
   "execution_count": null,
   "id": "7887712f-42a0-40f5-ad08-3e11fcd06598",
   "metadata": {},
   "outputs": [
    {
     "data": {
      "text/plain": [
       "array([[ 1. ,  1. ],\n",
       "       [ 1. ,  3. ],\n",
       "       [ 1. ,  0.5],\n",
       "       [ 1. , -6. ]])"
      ]
     },
     "execution_count": null,
     "metadata": {},
     "output_type": "execute_result"
    }
   ],
   "source": [
    "t"
   ]
  },
  {
   "cell_type": "code",
   "execution_count": null,
   "id": "bde9ef45-5d99-4a0b-9198-b7b936c2a372",
   "metadata": {},
   "outputs": [
    {
     "ename": "ValueError",
     "evalue": "shapes (7,4) and (3,1) not aligned: 4 (dim 1) != 3 (dim 0)",
     "output_type": "error",
     "traceback": [
      "\u001b[0;31m---------------------------------------------------------------------------\u001b[0m",
      "\u001b[0;31mValueError\u001b[0m                                Traceback (most recent call last)",
      "Cell \u001b[0;32mIn[75], line 3\u001b[0m\n\u001b[1;32m      1\u001b[0m \u001b[38;5;66;03m# Example :\u001b[39;00m\n\u001b[1;32m      2\u001b[0m theta2 \u001b[38;5;241m=\u001b[39m np\u001b[38;5;241m.\u001b[39marray([\u001b[38;5;241m0\u001b[39m,\u001b[38;5;241m0\u001b[39m,\u001b[38;5;241m0\u001b[39m])\u001b[38;5;241m.\u001b[39mreshape((\u001b[38;5;241m-\u001b[39m\u001b[38;5;241m1\u001b[39m, \u001b[38;5;241m1\u001b[39m))\n\u001b[0;32m----> 3\u001b[0m \u001b[43mgradient\u001b[49m\u001b[43m(\u001b[49m\u001b[43mx\u001b[49m\u001b[43m,\u001b[49m\u001b[43m \u001b[49m\u001b[43my\u001b[49m\u001b[43m,\u001b[49m\u001b[43m \u001b[49m\u001b[43mtheta2\u001b[49m\u001b[43m)\u001b[49m\n\u001b[1;32m      4\u001b[0m \u001b[38;5;66;03m# Output:\u001b[39;00m\n\u001b[1;32m      5\u001b[0m array([[ \u001b[38;5;241m-\u001b[39m\u001b[38;5;241m0.71428571\u001b[39m], [ \u001b[38;5;241m0.85714286\u001b[39m], [\u001b[38;5;241m23.28571429\u001b[39m], [\u001b[38;5;241m-\u001b[39m\u001b[38;5;241m26.42857143\u001b[39m]])\n",
      "Cell \u001b[0;32mIn[73], line 24\u001b[0m, in \u001b[0;36mgradient\u001b[0;34m(x, y, theta)\u001b[0m\n\u001b[1;32m     22\u001b[0m m \u001b[38;5;241m=\u001b[39m x\u001b[38;5;241m.\u001b[39mshape[\u001b[38;5;241m0\u001b[39m] \u001b[38;5;66;03m# number of training examples\u001b[39;00m\n\u001b[1;32m     23\u001b[0m X \u001b[38;5;241m=\u001b[39m np\u001b[38;5;241m.\u001b[39mhstack((np\u001b[38;5;241m.\u001b[39mones((m, \u001b[38;5;241m1\u001b[39m)), x)) \u001b[38;5;66;03m# adding a column of ones to x\u001b[39;00m\n\u001b[0;32m---> 24\u001b[0m y_hat \u001b[38;5;241m=\u001b[39m \u001b[43mnp\u001b[49m\u001b[38;5;241;43m.\u001b[39;49m\u001b[43mdot\u001b[49m\u001b[43m(\u001b[49m\u001b[43mX\u001b[49m\u001b[43m,\u001b[49m\u001b[43m \u001b[49m\u001b[43mtheta\u001b[49m\u001b[43m)\u001b[49m \u001b[38;5;66;03m# prediction vector\u001b[39;00m\n\u001b[1;32m     25\u001b[0m error \u001b[38;5;241m=\u001b[39m y_hat \u001b[38;5;241m-\u001b[39m y \u001b[38;5;66;03m# difference between prediction and actual value\u001b[39;00m\n\u001b[1;32m     26\u001b[0m gradient \u001b[38;5;241m=\u001b[39m (\u001b[38;5;241m1\u001b[39m\u001b[38;5;241m/\u001b[39mm) \u001b[38;5;241m*\u001b[39m np\u001b[38;5;241m.\u001b[39mdot(X\u001b[38;5;241m.\u001b[39mT, error)\n",
      "File \u001b[0;32m<__array_function__ internals>:180\u001b[0m, in \u001b[0;36mdot\u001b[0;34m(*args, **kwargs)\u001b[0m\n",
      "\u001b[0;31mValueError\u001b[0m: shapes (7,4) and (3,1) not aligned: 4 (dim 1) != 3 (dim 0)"
     ]
    }
   ],
   "source": [
    "# Example :\n",
    "theta2 = np.array([0,0,0]).reshape((-1, 1))\n",
    "gradient(x, y, theta2)\n",
    "# Output:\n",
    "array([[ -0.71428571], [ 0.85714286], [23.28571429], [-26.42857143]])"
   ]
  },
  {
   "cell_type": "markdown",
   "id": "7e050a76-7f82-4fb2-a9db-51524bc113b2",
   "metadata": {},
   "source": [
    "# Exercise 04"
   ]
  },
  {
   "cell_type": "code",
   "execution_count": null,
   "id": "3cac207d-2e4c-4e1b-9a18-ccb196e4af61",
   "metadata": {},
   "outputs": [],
   "source": [
    "def fit_(x, y, theta, alpha, max_iter):\n",
    "    \"\"\"\n",
    "    Description:\n",
    "    Fits the model to the training dataset contained in x and y.\n",
    "    Args:\n",
    "    x: has to be a numpy.array, a matrix of dimension m * n:\n",
    "    (number of training examples, number of features).\n",
    "    y: has to be a numpy.array, a vector of dimension m * 1:\n",
    "    (number of training examples, 1).\n",
    "    theta: has to be a numpy.array, a vector of dimension (n + 1) * 1:\n",
    "    (number of features + 1, 1).\n",
    "    alpha: has to be a float, the learning rate\n",
    "    max_iter: has to be an int, the number of iterations done during the gradient descent\n",
    "    Return:\n",
    "    new_theta: numpy.array, a vector of dimension (number of features + 1, 1).\n",
    "    None if there is a matching dimension problem.\n",
    "    None if x, y, theta, alpha or max_iter is not of expected type.\n",
    "    Raises:\n",
    "    This function should not raise any Exception.\n",
    "    \"\"\"\n",
    "\n",
    "    theta = theta.astype(np.float64)\n",
    "    for i in range(max_iter):\n",
    "        grad = simple_gradient(x, y, theta)\n",
    "        theta -= grad.astype(np.float64) * alpha\n",
    "    return theta"
   ]
  },
  {
   "cell_type": "code",
   "execution_count": null,
   "id": "787f2608-eef7-4ae7-aad8-4ecc2711b955",
   "metadata": {},
   "outputs": [],
   "source": [
    "import numpy as np\n",
    "x = np.array([[0.2, 2., 20.], [0.4, 4., 40.], [0.6, 6., 60.], [0.8, 8., 80.]])\n",
    "y = np.array([[19.6], [-2.8], [-25.2], [-47.6]])\n",
    "theta = np.array([[42.], [1.], [1.], [1.]])\n",
    "# Example 0:\n",
    "theta2 = fit_(x, y, theta, alpha = 0.0005, max_iter=42000)\n",
    "theta2\n",
    "# Output:\n",
    "array([[41.99..],[0.97..], [0.77..], [-1.20..]])\n",
    "# Example 1:\n",
    "predict_(x, theta2)\n",
    "# Output:\n",
    "array([[19.5992..], [-2.8003..], [-25.1999..], [-47.5996..]])"
   ]
  },
  {
   "cell_type": "markdown",
   "id": "dafd4bc7-f236-49c6-8578-ad907b8c8c80",
   "metadata": {},
   "source": [
    "# Exercise 05"
   ]
  },
  {
   "cell_type": "code",
   "execution_count": null,
   "id": "c833c8cb-12be-494c-872a-df5709be66f3",
   "metadata": {},
   "outputs": [],
   "source": [
    "import numpy as np\n",
    "from mylinearregression import MyLinearRegression as MyLR\n",
    "X = np.array([[1., 1., 2., 3.], [5., 8., 13., 21.], [34., 55., 89., 144.]])\n",
    "Y = np.array([[23.], [48.], [218.]])\n",
    "mylr = MyLR([[1.], [1.], [1.], [1.], [1]])\n",
    "# Example 0:\n",
    "y_hat = mylr.predict_(X)\n",
    "# Output:\n",
    "array([[8.], [48.], [323.]])\n",
    "# Example 1:\n",
    "mylr.loss_elem_(Y, y_hat)\n",
    "# Output:\n",
    "array([[225.], [0.], [11025.]])\n",
    "# Example 2:\n",
    "mylr.loss_(Y, y_hat)\n",
    "# Output:\n",
    "1875.0\n",
    "# Example 3:\n",
    "mylr.alpha = 1.6e-4\n",
    "mylr.max_iter = 200000\n",
    "mylr.fit_(X, Y)\n",
    "mylr.theta\n",
    "# Output:\n",
    "array([[18.188..], [2.767..], [-0.374..], [1.392..], [0.017..]])\n",
    "# Example 4:\n",
    "y_hat = mylr.predict_(X)\n",
    "# Output:\n",
    "array([[23.417..], [47.489..], [218.065...]])\n",
    "# Example 5:\n",
    "mylr.loss_elem_(Y, y_hat)\n",
    "# Output:\n",
    "array([[0.174..], [0.260..], [0.004..]])\n",
    "# Example 6:\n",
    "mylr.loss_(Y, y_hat)\n",
    "# Output:\n",
    "0.0732.."
   ]
  },
  {
   "cell_type": "code",
   "execution_count": null,
   "id": "6326470e-8cd1-4d71-89ca-0c5b440b020e",
   "metadata": {},
   "outputs": [],
   "source": []
  },
  {
   "cell_type": "markdown",
   "id": "290e60a2-6ff6-4f3c-b222-eac4a65c70c8",
   "metadata": {},
   "source": [
    "# Exercise 06"
   ]
  },
  {
   "cell_type": "code",
   "execution_count": null,
   "id": "e0d459b1-ae2c-402b-8b8a-ba7fb3d01a94",
   "metadata": {},
   "outputs": [],
   "source": [
    "import pandas as pd\n",
    "import numpy as np\n",
    "from mylinearregression import MyLinearRegression as MyLR\n",
    "data = pd.read_csv(\"spacecraft_data.csv\")\n",
    "X = np.array(data[[’Age’]])\n",
    "Y = np.array(data[[’Sell_price’]])\n",
    "myLR_age = MyLR(theta = [[1000.0], [-1.0]], alpha = 2.5e-5, max_iter = 100000)\n",
    "myLR_age.fit_(X[:,0].reshape(-1,1), Y)\n",
    "y_pred = myLR_age.predict_(X[:,0].reshape(-1,1))\n",
    "myLR_age.mse_(y_pred,Y)\n",
    "#Output\n",
    "55736.86719..."
   ]
  },
  {
   "cell_type": "code",
   "execution_count": null,
   "id": "b99af07d-4e70-4079-addd-8643e657ec36",
   "metadata": {},
   "outputs": [],
   "source": [
    "import pandas as pd\n",
    "import numpy as np\n",
    "from mylinearregression import MyLinearRegression as MyLR\n",
    "data = pd.read_csv(\"spacecraft_data.csv\")\n",
    "X = np.array(data[[’Age’,’Thrust_power’,’Terameters’]])\n",
    "Y = np.array(data[[’Sell_price’]])\n",
    "my_lreg = MyLR(theta = [1.0, 1.0, 1.0, 1.0], , alpha = 1e-4, max_iter = 600000)\n",
    "# Example 0:\n",
    "my_lreg.mse_(X,Y)\n",
    "# Output:\n",
    "144044.877...\n",
    "# Example 1:\n",
    "my_lreg.fit_(X,Y)\n",
    "my_lreg.theta\n",
    "# Output:\n",
    "array([[334.994...],[-22.535...],[5.857...],[-2.586...]])\n",
    "# Example 2:\n",
    "my_lreg.mse_(X,Y)\n",
    "# Output:\n",
    "586.896999..."
   ]
  },
  {
   "cell_type": "code",
   "execution_count": null,
   "id": "139b3151-8c69-4fab-a8c9-fd23eb61af18",
   "metadata": {},
   "outputs": [],
   "source": [
    "# Example 1:\n",
    "X = np.array([0, 15, -9, 7, 12, 3, -21]).reshape((-1, 1))\n",
    "minmax(X)\n",
    "# Output:\n",
    "array([0.58333333, 1. , 0.33333333, 0.77777778, 0.91666667,\n",
    "0.66666667, 0. ])\n",
    "# Example 2:\n",
    "Y = np.array([2, 14, -13, 5, 12, 4, -19]).reshape((-1, 1))\n",
    "minmax(Y)\n",
    "# Output:\n",
    "array([0.63636364, 1. , 0.18181818, 0.72727273, 0.93939394,\n",
    "0.6969697 , 0. ])"
   ]
  },
  {
   "cell_type": "markdown",
   "id": "1d91d44c-d0cc-49d5-a299-d9f6fcd32835",
   "metadata": {},
   "source": [
    "# Exercise 07"
   ]
  },
  {
   "cell_type": "code",
   "execution_count": null,
   "id": "a6469086-2904-45ce-abf3-7ed7e98456e7",
   "metadata": {},
   "outputs": [],
   "source": [
    "def add_polynomial_features(x, power):\n",
    "    \"\"\"Add polynomial features to vector x by raising its values up to the power given in argument.\n",
    "    Args:\n",
    "    x: has to be an numpy.array, a vector of dimension m * 1.\n",
    "    power: has to be an int, the power up to which the components of vector x are going to be raised.\n",
    "    Return:\n",
    "    The matrix of polynomial features as a numpy.array, of dimension m * n,\n",
    "    containing the polynomial feature values for all training examples.\n",
    "    None if x is an empty numpy.array.\n",
    "    None if x or power is not of expected type.\n",
    "    Raises:\n",
    "    This function should not raise any Exception.\n",
    "    \"\"\"\n",
    "    pass"
   ]
  },
  {
   "cell_type": "code",
   "execution_count": null,
   "id": "c0e26151-4521-49dc-aaf4-92a366a95793",
   "metadata": {},
   "outputs": [],
   "source": [
    "import numpy as np\n",
    "x = np.arange(1,6).reshape(-1, 1)\n",
    "# Example 0:\n",
    "add_polynomial_features(x, 3)\n",
    "# Output:\n",
    "array([[ 1, 1, 1],\n",
    "[ 2, 4, 8],\n",
    "[ 3, 9, 27],\n",
    "[ 4, 16, 64],\n",
    "[ 5, 25, 125]])\n",
    "# Example 1:\n",
    "add_polynomial_features(x, 6)\n",
    "# Output:\n",
    "array([[ 1, 1, 1, 1, 1, 1],\n",
    "[ 2, 4, 8, 16, 32, 64],\n",
    "[ 3, 9, 27, 81, 243, 729],\n",
    "[ 4, 16, 64, 256, 1024, 4096],\n",
    "[ 5, 25, 125, 625, 3125, 15625]])"
   ]
  },
  {
   "cell_type": "markdown",
   "id": "09a5b6c6-fd0f-4a1e-a479-2d04c018beb7",
   "metadata": {},
   "source": [
    "# Exercise 08"
   ]
  },
  {
   "cell_type": "code",
   "execution_count": null,
   "id": "8058f42d-ddfe-4609-8378-c2c0c9672f43",
   "metadata": {},
   "outputs": [],
   "source": [
    "import numpy as np\n",
    "import matplotlib.pyplot as plt\n",
    "x = np.arange(1,11).reshape(-1,1)\n",
    "y = np.array([[ 1.39270298],\n",
    "[ 3.88237651],\n",
    "[ 4.37726357],\n",
    "[ 4.63389049],\n",
    "[ 7.79814439],\n",
    "[ 6.41717461],\n",
    "[ 8.63429886],\n",
    "[ 8.19939795],\n",
    "[10.37567392],\n",
    "[10.68238222]])\n",
    "plt.scatter(x,y)\n",
    "plt.show()"
   ]
  },
  {
   "cell_type": "code",
   "execution_count": null,
   "id": "09962e24-477f-4368-9271-78ea03bd7f13",
   "metadata": {},
   "outputs": [],
   "source": [
    "from polynomial_model import add_polynomial_features\n",
    "from mylinearregression import MyLinearRegression as MyLR\n",
    "# Build the model:\n",
    "x_ = add_polynomial_features(x, 3)\n",
    "my_lr = MyLR(np.ones(4).reshape(-1,1)).fit_(x_, y)\n",
    "# Plot:\n",
    "## To get a smooth curve, we need a lot of data points\n",
    "continuous_x = np.arange(1,10.01, 0.01).reshape(-1,1)\n",
    "x_ = add_polynomial_features(continuous_x, 3)\n",
    "y_hat = my_lr.predict_(continuous_x)\n",
    "plt.scatter(x,y)\n",
    "plt.plot(continuous_x, y_hat, color=’orange’)\n",
    "plt.show()"
   ]
  },
  {
   "cell_type": "markdown",
   "id": "a299eab4-8a85-4443-a582-06935895fd81",
   "metadata": {},
   "source": [
    "# Exercise 09"
   ]
  },
  {
   "cell_type": "code",
   "execution_count": null,
   "id": "bee15a2f-8e0a-46b6-89aa-2c1200650463",
   "metadata": {},
   "outputs": [],
   "source": []
  }
 ],
 "metadata": {
  "kernelspec": {
   "display_name": "python3",
   "language": "python",
   "name": "python3"
  }
 },
 "nbformat": 4,
 "nbformat_minor": 5
}
