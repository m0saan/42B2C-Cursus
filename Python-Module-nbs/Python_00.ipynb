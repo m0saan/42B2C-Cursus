{
 "cells": [
  {
   "cell_type": "markdown",
   "id": "f334e579-6399-4ba4-ab1f-f191140ebecb",
   "metadata": {},
   "source": [
    "### **Exercise: 01 - Rev Alpha**"
   ]
  },
  {
   "cell_type": "code",
   "execution_count": 1,
   "id": "40efafce-0fbc-4e48-9084-f27ffd284f0b",
   "metadata": {
    "tags": []
   },
   "outputs": [],
   "source": [
    "import sys\n",
    "\n",
    "def rev_alpha():\n",
    "    for arg in sys.argv:\n",
    "        print(arg)"
   ]
  },
  {
   "cell_type": "code",
   "execution_count": null,
   "id": "207f973d-13de-4b8f-94e8-bcc9436a956f",
   "metadata": {
    "tags": []
   },
   "outputs": [
    {
     "name": "stdout",
     "output_type": "stream",
     "text": [
      "Python 3.10.9 | packaged by conda-forge | (main, Feb  2 2023, 20:20:04) [GCC 11.3.0] on linux\n",
      "Type \"help\", \"copyright\", \"credits\" or \"license\" for more information.\n",
      ">>> "
     ]
    }
   ],
   "source": []
  },
  {
   "cell_type": "code",
   "execution_count": null,
   "id": "64ed7d77-a595-42b5-9d08-6c0ce76c7ea4",
   "metadata": {},
   "outputs": [],
   "source": []
  }
 ],
 "metadata": {
  "kernelspec": {
   "display_name": "Python 3 (ipykernel)",
   "language": "python",
   "name": "python3"
  },
  "language_info": {
   "codemirror_mode": {
    "name": "ipython",
    "version": 3
   },
   "file_extension": ".py",
   "mimetype": "text/x-python",
   "name": "python",
   "nbconvert_exporter": "python",
   "pygments_lexer": "ipython3",
   "version": "3.10.9"
  }
 },
 "nbformat": 4,
 "nbformat_minor": 5
}
