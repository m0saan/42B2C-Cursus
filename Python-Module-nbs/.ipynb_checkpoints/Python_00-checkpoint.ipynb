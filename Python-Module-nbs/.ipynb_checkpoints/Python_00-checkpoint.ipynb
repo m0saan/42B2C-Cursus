{
 "cells": [
  {
   "cell_type": "markdown",
   "id": "f334e579-6399-4ba4-ab1f-f191140ebecb",
   "metadata": {},
   "source": [
    "### **Exercise: 01 - Rev Alpha**"
   ]
  },
  {
   "cell_type": "code",
   "execution_count": null,
   "id": "40efafce-0fbc-4e48-9084-f27ffd284f0b",
   "metadata": {},
   "outputs": [],
   "source": []
  }
 ],
 "metadata": {
  "kernelspec": {
   "display_name": "Python 3 (ipykernel)",
   "language": "python",
   "name": "python3"
  },
  "language_info": {
   "codemirror_mode": {
    "name": "ipython",
    "version": 3
   },
   "file_extension": ".py",
   "mimetype": "text/x-python",
   "name": "python",
   "nbconvert_exporter": "python",
   "pygments_lexer": "ipython3",
   "version": "3.10.8"
  }
 },
 "nbformat": 4,
 "nbformat_minor": 5
}
