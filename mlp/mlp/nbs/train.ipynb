{
 "cells": [
  {
   "cell_type": "code",
   "execution_count": null,
   "id": "9f0bd865-0b44-4049-baf2-465c182105a6",
   "metadata": {},
   "outputs": [],
   "source": []
  }
 ],
 "metadata": {
  "kernelspec": {
   "display_name": "python3",
   "language": "python",
   "name": "python3"
  }
 },
 "nbformat": 4,
 "nbformat_minor": 5
}
